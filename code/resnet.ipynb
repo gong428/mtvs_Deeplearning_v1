{
 "cells": [
  {
   "cell_type": "markdown",
   "metadata": {},
   "source": [
    "### 1. 필요 모듈 가져오기"
   ]
  },
  {
   "cell_type": "code",
   "execution_count": 26,
   "metadata": {},
   "outputs": [],
   "source": [
    "import torch\n",
    "import torch.nn as nn\n",
    "import torchvision.models as models\n",
    "import torchvision.transforms as transforms\n",
    "from torch.utils.data import DataLoader,Subset\n",
    "from torchvision.datasets import ImageFolder\n",
    "\n",
    "\n",
    "import numpy as np\n",
    "import matplotlib.pyplot as plt\n",
    "import koreanize_matplotlib\n"
   ]
  },
  {
   "cell_type": "markdown",
   "metadata": {},
   "source": [
    "### 2. 데이터셋 준비 및 확인 - 클래스명 비율을 고려해서 분할해보기"
   ]
  },
  {
   "cell_type": "code",
   "execution_count": 27,
   "metadata": {},
   "outputs": [],
   "source": [
    "from sklearn.model_selection import train_test_split\n",
    "\n",
    "# 랜덤 시드 결정\n",
    "seed_num =11\n",
    "np.random.seed(seed_num)\n",
    "torch.manual_seed(seed_num)\n",
    "\n",
    "# 폴더에서 데이터 로드\n",
    "dataset = ImageFolder(root = '../data/resnet_data')\n",
    "dataset_indices = list(range(len(dataset)))"
   ]
  },
  {
   "cell_type": "code",
   "execution_count": 28,
   "metadata": {},
   "outputs": [],
   "source": [
    "targets = dataset.targets #폴더별로 라벨링을 해줌"
   ]
  },
  {
   "cell_type": "code",
   "execution_count": 29,
   "metadata": {},
   "outputs": [],
   "source": [
    "# 80:20 나누기\n",
    "train_indices,val_test_indices = train_test_split(dataset_indices,test_size=0.2,stratify=targets, random_state=seed_num)\n",
    "val_test_target = [targets[i] for i in val_test_indices]\n",
    "# 50:50 나누기\n",
    "val_indices,test_indices = train_test_split(val_test_indices,test_size=0.5,stratify=val_test_target,random_state=seed_num)"
   ]
  },
  {
   "cell_type": "code",
   "execution_count": 30,
   "metadata": {},
   "outputs": [],
   "source": [
    "#train_indices, val_indices, test_indices\n",
    "#최종 데이터셋 생성\n",
    "# 이거 왜 하는거지?\n",
    "train_dataset = Subset(dataset,train_indices)\n",
    "val_dataset =Subset(dataset,val_indices)\n",
    "test_dataset =Subset(dataset,test_indices)"
   ]
  },
  {
   "cell_type": "code",
   "execution_count": 31,
   "metadata": {},
   "outputs": [
    {
     "data": {
      "text/plain": [
       "(341, 43, 43)"
      ]
     },
     "execution_count": 31,
     "metadata": {},
     "output_type": "execute_result"
    }
   ],
   "source": [
    "len(train_dataset),len(val_dataset),len(test_dataset)"
   ]
  },
  {
   "cell_type": "code",
   "execution_count": 32,
   "metadata": {},
   "outputs": [
    {
     "data": {
      "text/plain": [
       "{'마동석': 0, '신세경': 1, '차은우': 2, '카리나': 3}"
      ]
     },
     "execution_count": 32,
     "metadata": {},
     "output_type": "execute_result"
    }
   ],
   "source": [
    "class_idx = dataset.class_to_idx\n",
    "class_idx"
   ]
  },
  {
   "cell_type": "code",
   "execution_count": 33,
   "metadata": {},
   "outputs": [],
   "source": [
    "class_names = {}\n",
    "for key,val in class_idx.items():\n",
    "    class_names[val] = key"
   ]
  },
  {
   "cell_type": "code",
   "execution_count": 34,
   "metadata": {},
   "outputs": [
    {
     "data": {
      "text/plain": [
       "{0: '마동석', 1: '신세경', 2: '차은우', 3: '카리나'}"
      ]
     },
     "execution_count": 34,
     "metadata": {},
     "output_type": "execute_result"
    }
   ],
   "source": [
    "class_names"
   ]
  },
  {
   "cell_type": "code",
   "execution_count": 35,
   "metadata": {},
   "outputs": [
    {
     "name": "stdout",
     "output_type": "stream",
     "text": [
      "(<PIL.Image.Image image mode=RGB size=1200x1661 at 0x1ED87561750>, 2)\n",
      "(<PIL.Image.Image image mode=RGB size=1280x1766 at 0x1ED818F5E70>, 1)\n",
      "(<PIL.Image.Image image mode=RGB size=447x498 at 0x1ED878B0340>, 2)\n",
      "(<PIL.Image.Image image mode=RGB size=1200x1623 at 0x1ED8EB93D30>, 2)\n",
      "(<PIL.Image.Image image mode=RGB size=520x637 at 0x1ED878B0070>, 0)\n",
      "(<PIL.Image.Image image mode=RGB size=835x556 at 0x1ED87561750>, 3)\n",
      "(<PIL.Image.Image image mode=RGB size=1143x1714 at 0x1ED878B03A0>, 3)\n",
      "(<PIL.Image.Image image mode=RGB size=600x900 at 0x1ED818F5E70>, 0)\n",
      "(<PIL.Image.Image image mode=RGB size=960x1440 at 0x1ED878B0340>, 1)\n",
      "(<PIL.Image.Image image mode=RGB size=640x960 at 0x1ED87BEDC00>, 0)\n",
      "(<PIL.Image.Image image mode=RGB size=1200x800 at 0x1ED87561750>, 1)\n",
      "(<PIL.Image.Image image mode=RGB size=1024x1275 at 0x1ED87BECDC0>, 0)\n",
      "(<PIL.Image.Image image mode=RGB size=1425x2048 at 0x1ED8EB93D30>, 2)\n",
      "(<PIL.Image.Image image mode=RGB size=620x907 at 0x1ED87BED780>, 2)\n",
      "(<PIL.Image.Image image mode=RGB size=1200x837 at 0x1ED818F5E70>, 0)\n",
      "(<PIL.Image.Image image mode=RGB size=1200x680 at 0x1ED87BEDC00>, 3)\n",
      "(<PIL.Image.Image image mode=RGB size=1024x1024 at 0x1ED87561750>, 1)\n",
      "(<PIL.Image.Image image mode=RGB size=620x930 at 0x1ED87BECDC0>, 1)\n",
      "(<PIL.Image.Image image mode=RGB size=1200x1800 at 0x1ED8EB93D30>, 3)\n",
      "(<PIL.Image.Image image mode=RGB size=670x1005 at 0x1ED87BED780>, 1)\n",
      "(<PIL.Image.Image image mode=RGB size=1200x1631 at 0x1ED818F5E70>, 2)\n",
      "(<PIL.Image.Image image mode=RGB size=1240x1220 at 0x1ED87BEDC00>, 2)\n",
      "(<PIL.Image.Image image mode=RGB size=630x630 at 0x1ED878B03A0>, 0)\n",
      "(<PIL.Image.Image image mode=RGB size=1280x1920 at 0x1ED87561750>, 1)\n",
      "(<PIL.Image.Image image mode=RGB size=600x818 at 0x1ED878B0070>, 0)\n",
      "(<PIL.Image.Image image mode=RGB size=560x700 at 0x1ED875DF880>, 1)\n",
      "(<PIL.Image.Image image mode=RGB size=630x945 at 0x1ED875DF820>, 0)\n",
      "(<PIL.Image.Image image mode=RGB size=1080x1924 at 0x1ED818F5E70>, 3)\n",
      "(<PIL.Image.Image image mode=RGB size=1365x2048 at 0x1ED875DEB60>, 3)\n",
      "(<PIL.Image.Image image mode=RGB size=1200x627 at 0x1ED87BED780>, 2)\n",
      "(<PIL.Image.Image image mode=RGB size=510x685 at 0x1ED8EB93D30>, 1)\n",
      "(<PIL.Image.Image image mode=RGB size=800x1067 at 0x1ED87561750>, 3)\n",
      "(<PIL.Image.Image image mode=RGB size=1120x1400 at 0x1ED87BEDC00>, 2)\n",
      "(<PIL.Image.Image image mode=RGB size=630x945 at 0x1ED818F5E70>, 3)\n",
      "(<PIL.Image.Image image mode=RGB size=736x736 at 0x1ED87BECDC0>, 3)\n",
      "(<PIL.Image.Image image mode=RGB size=1080x886 at 0x1ED8EB93D30>, 0)\n",
      "(<PIL.Image.Image image mode=RGB size=554x832 at 0x1ED87BED780>, 1)\n",
      "(<PIL.Image.Image image mode=RGB size=640x1048 at 0x1ED87561750>, 3)\n",
      "(<PIL.Image.Image image mode=RGB size=630x944 at 0x1ED87BEDC00>, 1)\n",
      "(<PIL.Image.Image image mode=RGB size=600x899 at 0x1ED818F5E70>, 0)\n",
      "(<PIL.Image.Image image mode=RGB size=1080x1350 at 0x1ED87BECDC0>, 1)\n",
      "(<PIL.Image.Image image mode=RGB size=1000x1249 at 0x1ED8EB93D30>, 2)\n",
      "(<PIL.Image.Image image mode=RGB size=1280x867 at 0x1ED87BED780>, 1)\n"
     ]
    }
   ],
   "source": [
    "for i in test_dataset:\n",
    "    print(i)\n",
    "\n",
    "# 튜플 형태로 저장, 0:이미지 정보 1: 클래스넘버"
   ]
  },
  {
   "cell_type": "code",
   "execution_count": 36,
   "metadata": {},
   "outputs": [
    {
     "ename": "ValueError",
     "evalue": "num must be an integer with 1 <= num <= 21, not 22",
     "output_type": "error",
     "traceback": [
      "\u001b[1;31m---------------------------------------------------------------------------\u001b[0m",
      "\u001b[1;31mValueError\u001b[0m                                Traceback (most recent call last)",
      "Cell \u001b[1;32mIn[36], line 4\u001b[0m\n\u001b[0;32m      2\u001b[0m plt\u001b[38;5;241m.\u001b[39mfigure(figsize\u001b[38;5;241m=\u001b[39m(\u001b[38;5;241m15\u001b[39m,\u001b[38;5;241m8\u001b[39m))\n\u001b[0;32m      3\u001b[0m \u001b[38;5;28;01mfor\u001b[39;00m idx,item \u001b[38;5;129;01min\u001b[39;00m \u001b[38;5;28menumerate\u001b[39m(test_dataset,start\u001b[38;5;241m=\u001b[39m\u001b[38;5;241m1\u001b[39m):\n\u001b[1;32m----> 4\u001b[0m     \u001b[43mplt\u001b[49m\u001b[38;5;241;43m.\u001b[39;49m\u001b[43msubplot\u001b[49m\u001b[43m(\u001b[49m\u001b[38;5;241;43m1\u001b[39;49m\u001b[43m,\u001b[49m\u001b[38;5;241;43m21\u001b[39;49m\u001b[43m,\u001b[49m\u001b[43midx\u001b[49m\u001b[43m)\u001b[49m\n\u001b[0;32m      5\u001b[0m     image \u001b[38;5;241m=\u001b[39m item[\u001b[38;5;241m0\u001b[39m]\n\u001b[0;32m      6\u001b[0m     class_name \u001b[38;5;241m=\u001b[39m class_names[item[\u001b[38;5;241m1\u001b[39m]]\n",
      "File \u001b[1;32mc:\\Users\\Admin\\miniconda3\\envs\\gumi_env310\\lib\\site-packages\\matplotlib\\pyplot.py:1323\u001b[0m, in \u001b[0;36msubplot\u001b[1;34m(*args, **kwargs)\u001b[0m\n\u001b[0;32m   1320\u001b[0m fig \u001b[38;5;241m=\u001b[39m gcf()\n\u001b[0;32m   1322\u001b[0m \u001b[38;5;66;03m# First, search for an existing subplot with a matching spec.\u001b[39;00m\n\u001b[1;32m-> 1323\u001b[0m key \u001b[38;5;241m=\u001b[39m \u001b[43mSubplotSpec\u001b[49m\u001b[38;5;241;43m.\u001b[39;49m\u001b[43m_from_subplot_args\u001b[49m\u001b[43m(\u001b[49m\u001b[43mfig\u001b[49m\u001b[43m,\u001b[49m\u001b[43m \u001b[49m\u001b[43margs\u001b[49m\u001b[43m)\u001b[49m\n\u001b[0;32m   1325\u001b[0m \u001b[38;5;28;01mfor\u001b[39;00m ax \u001b[38;5;129;01min\u001b[39;00m fig\u001b[38;5;241m.\u001b[39maxes:\n\u001b[0;32m   1326\u001b[0m     \u001b[38;5;66;03m# if we found an Axes at the position sort out if we can re-use it\u001b[39;00m\n\u001b[0;32m   1327\u001b[0m     \u001b[38;5;28;01mif\u001b[39;00m ax\u001b[38;5;241m.\u001b[39mget_subplotspec() \u001b[38;5;241m==\u001b[39m key:\n\u001b[0;32m   1328\u001b[0m         \u001b[38;5;66;03m# if the user passed no kwargs, re-use\u001b[39;00m\n",
      "File \u001b[1;32mc:\\Users\\Admin\\miniconda3\\envs\\gumi_env310\\lib\\site-packages\\matplotlib\\gridspec.py:600\u001b[0m, in \u001b[0;36mSubplotSpec._from_subplot_args\u001b[1;34m(figure, args)\u001b[0m\n\u001b[0;32m    598\u001b[0m \u001b[38;5;28;01melse\u001b[39;00m:\n\u001b[0;32m    599\u001b[0m     \u001b[38;5;28;01mif\u001b[39;00m \u001b[38;5;129;01mnot\u001b[39;00m \u001b[38;5;28misinstance\u001b[39m(num, Integral) \u001b[38;5;129;01mor\u001b[39;00m num \u001b[38;5;241m<\u001b[39m \u001b[38;5;241m1\u001b[39m \u001b[38;5;129;01mor\u001b[39;00m num \u001b[38;5;241m>\u001b[39m rows\u001b[38;5;241m*\u001b[39mcols:\n\u001b[1;32m--> 600\u001b[0m         \u001b[38;5;28;01mraise\u001b[39;00m \u001b[38;5;167;01mValueError\u001b[39;00m(\n\u001b[0;32m    601\u001b[0m             \u001b[38;5;124mf\u001b[39m\u001b[38;5;124m\"\u001b[39m\u001b[38;5;124mnum must be an integer with 1 <= num <= \u001b[39m\u001b[38;5;132;01m{\u001b[39;00mrows\u001b[38;5;241m*\u001b[39mcols\u001b[38;5;132;01m}\u001b[39;00m\u001b[38;5;124m, \u001b[39m\u001b[38;5;124m\"\u001b[39m\n\u001b[0;32m    602\u001b[0m             \u001b[38;5;124mf\u001b[39m\u001b[38;5;124m\"\u001b[39m\u001b[38;5;124mnot \u001b[39m\u001b[38;5;132;01m{\u001b[39;00mnum\u001b[38;5;132;01m!r}\u001b[39;00m\u001b[38;5;124m\"\u001b[39m\n\u001b[0;32m    603\u001b[0m         )\n\u001b[0;32m    604\u001b[0m     i \u001b[38;5;241m=\u001b[39m j \u001b[38;5;241m=\u001b[39m num\n\u001b[0;32m    605\u001b[0m \u001b[38;5;28;01mreturn\u001b[39;00m gs[i\u001b[38;5;241m-\u001b[39m\u001b[38;5;241m1\u001b[39m:j]\n",
      "\u001b[1;31mValueError\u001b[0m: num must be an integer with 1 <= num <= 21, not 22"
     ]
    },
    {
     "data": {
      "image/png": "[encoded data removed]",
      "text/plain": [
       "<Figure size 1500x800 with 21 Axes>"
      ]
     },
     "metadata": {},
     "output_type": "display_data"
    }
   ],
   "source": [
    "#시각화 해보기\n",
    "plt.figure(figsize=(15,8))\n",
    "for idx,item in enumerate(test_dataset,start=1):\n",
    "    plt.subplot(1,21,idx)\n",
    "    image = item[0]\n",
    "    class_name = class_names[item[1]]\n",
    "    plt.title(class_name)\n",
    "    plt.axis(\"off\")\n",
    "    plt.imshow(image)\n",
    "plt.show()"
   ]
  },
  {
   "cell_type": "markdown",
   "metadata": {},
   "source": [
    "### 3. 이미지 증강 및 전처리 설정 - transforms"
   ]
  },
  {
   "cell_type": "code",
   "execution_count": null,
   "metadata": {},
   "outputs": [],
   "source": [
    "# mean,std 구하는 방법\n",
    "def get_mean_std(loader):\n",
    "    channels_sum, channels_squared_sum, num_batches = 0, 0, 0\n",
    "\n",
    "    for data, _ in loader:\n",
    "        channels_sum += torch.mean(data, dim=[0, 2, 3])\n",
    "        channels_squared_sum += torch.mean(data**2, dim=[0, 2, 3])\n",
    "        num_batches += 1\n",
    "\n",
    "    mean = channels_sum / num_batches\n",
    "    std = (channels_squared_sum / num_batches - mean**2)**0.5\n",
    "    return mean, std\n"
   ]
  },
  {
   "cell_type": "code",
   "execution_count": 37,
   "metadata": {},
   "outputs": [],
   "source": [
    "train_transform = transforms.Compose([\n",
    "    transforms.Resize((224,224)),\n",
    "    transforms.RandomHorizontalFlip(),\n",
    "    transforms.RandomRotation(10),\n",
    "    transforms.ToTensor(),\n",
    "    transforms.Normalize(mean = [0.485,0.456,0.406], std =[0.229,0.224,0.225])#train_dataset으로 구하기\n",
    "])\n",
    "\n",
    "test_transform = transforms.Compose([\n",
    "    transforms.Resize((224,224)),\n",
    "    transforms.ToTensor(),\n",
    "    transforms.Normalize(mean = [0.485,0.456,0.406], std =[0.229,0.224,0.225])\n",
    "])"
   ]
  },
  {
   "cell_type": "code",
   "execution_count": 56,
   "metadata": {},
   "outputs": [],
   "source": [
    "#transform 설정\n",
    "train_dataset.dataset.transform = train_transform\n",
    "val_dataset.dataset.transform = test_transform\n",
    "test_dataset.dataset.transform = test_transform\n",
    "\n",
    "#데이터 로더 설정\n",
    "batch_size = 8\n",
    "train_loader = DataLoader(train_dataset,batch_size=batch_size,shuffle=True,num_workers=4, pin_memory=True)\n",
    "val_loader = DataLoader(val_dataset,batch_size=batch_size,shuffle=True)\n",
    "test_loader = DataLoader(test_dataset,batch_size=batch_size,shuffle=True,num_workers=4, pin_memory=True)"
   ]
  },
  {
   "cell_type": "code",
   "execution_count": 57,
   "metadata": {},
   "outputs": [
    {
     "data": {
      "image/png": "[encoded data removed]",
      "text/plain": [
       "<Figure size 1500x800 with 15 Axes>"
      ]
     },
     "metadata": {},
     "output_type": "display_data"
    }
   ],
   "source": [
    "### train dataset 에 transform 적용 확인해보기\n",
    "plt.figure(figsize=(15,8))\n",
    "\n",
    "for idx,item in enumerate(train_dataset,start=1):\n",
    "    if idx ==16:\n",
    "        break\n",
    "    plt.subplot(1,21,idx)\n",
    "    mean = np.array([0.485,0.456,0.406])\n",
    "    std = np.array([0.229,0.224,0.225])\n",
    "    image = item[0]\n",
    "    image = image.cpu().detach().numpy().transpose((1,2,0))\n",
    "    image = std * image + mean\n",
    "    image = np.clip(image,0,1)\n",
    "    \n",
    "    class_name = class_names[item[1]]\n",
    "    plt.title(class_name)\n",
    "    plt.axis(\"off\")\n",
    "    plt.imshow(image)\n",
    "plt.show()"
   ]
  },
  {
   "cell_type": "markdown",
   "metadata": {},
   "source": [
    "### 4. 모델 설정"
   ]
  },
  {
   "cell_type": "code",
   "execution_count": 58,
   "metadata": {},
   "outputs": [],
   "source": [
    "model_ResNet = models.resnet34(weights=None, num_classes=4)\n"
   ]
  },
  {
   "cell_type": "markdown",
   "metadata": {},
   "source": [
    "### 5. 손실함수와 옵티마이저 설정"
   ]
  },
  {
   "cell_type": "code",
   "execution_count": 59,
   "metadata": {},
   "outputs": [],
   "source": [
    "\n",
    "criterion = nn.CrossEntropyLoss()\n",
    "optimizer = torch.optim.Adam(model_ResNet.parameters(), lr=0.001)"
   ]
  },
  {
   "cell_type": "markdown",
   "metadata": {},
   "source": [
    "### 6. 학습하기\n"
   ]
  },
  {
   "cell_type": "code",
   "execution_count": 60,
   "metadata": {},
   "outputs": [],
   "source": [
    "import torchmetrics\n",
    "from tqdm.notebook import tqdm\n",
    "\n",
    "\n",
    "# train 과 val 과정중의 loss값과 accuracy 값을 저장하는것이 목표\n",
    "def train_and_validate(model, train_loader, val_loader, criterion, epochs, device):\n",
    "    train_losses = []\n",
    "    val_losses = []\n",
    "\n",
    "    train_accuracies = []\n",
    "    val_accuracies = []\n",
    "    max_val_acc = 0\n",
    "\n",
    "    model = model.to(device)\n",
    "    \n",
    "    # 옵티마이저 다시 설정\n",
    "    optimizer = torch.optim.Adam(model.parameters(), lr=0.01)\n",
    "\n",
    "    for epoch in range(epochs):\n",
    "        # 모델 학습용으로 설정\n",
    "        model.train()\n",
    "        running_loss = 0.0\n",
    "\n",
    "        train_accuracy_metrics = torchmetrics.Accuracy(task=\"multiclass\", num_classes=4, average='macro').to(device)\n",
    "\n",
    "        # 학습 진행해보기\n",
    "        for inputs, labels in tqdm(train_loader, desc=f\"{epoch} 별 학습 진행중\"):\n",
    "            inputs, labels = inputs.to(device), labels.to(device)\n",
    "            \n",
    "            # 그라디언트 초기화\n",
    "            optimizer.zero_grad()\n",
    "            outputs = model(inputs) # 결과\n",
    "            loss = criterion(outputs, labels)\n",
    "            loss.backward() # 역전파\n",
    "            optimizer.step()\n",
    "\n",
    "            running_loss += loss.item()\n",
    "            \n",
    "            # 학습 정확도 계산\n",
    "            train_accuracy_metrics.update(outputs, labels)\n",
    "        \n",
    "        # 에포크별 학습손실 계산\n",
    "        epoch_loss = running_loss / len(train_loader)\n",
    "        train_losses.append(epoch_loss)\n",
    "\n",
    "        # 정확도 계산\n",
    "        train_accuracy = train_accuracy_metrics.compute().item()\n",
    "        train_accuracies.append(train_accuracy)\n",
    "\n",
    "        print(f\"에포크별 학습 loss : {epoch_loss:.3f} / 학습 정확도 : {train_accuracy:.2%}\")\n",
    "        \n",
    "        # 검증 평가\n",
    "        model.eval()\n",
    "        running_val_loss = 0.0\n",
    "        val_accuracy_metric = torchmetrics.Accuracy(task=\"multiclass\", num_classes=4, average='macro').to(device)\n",
    "\n",
    "        with torch.no_grad():\n",
    "            for inputs, labels in val_loader:\n",
    "                inputs, labels = inputs.to(device), labels.to(device)\n",
    "                outputs = model(inputs)\n",
    "                loss = criterion(outputs, labels)\n",
    "                running_val_loss += loss.item()\n",
    "\n",
    "                # 검증 정확도 업데이트\n",
    "                val_accuracy_metric.update(outputs, labels)\n",
    "            epoch_val_loss = running_val_loss / len(val_loader)\n",
    "            val_losses.append(epoch_val_loss)\n",
    "\n",
    "            # 검증 정확도 계산\n",
    "            val_accuarcy = val_accuracy_metric.compute().item()\n",
    "\n",
    "            if max_val_acc < val_accuarcy :\n",
    "                torch.save(model.state_dict(),\"best_Resenet34.pth\")\n",
    "                max_val_acc = val_accuarcy\n",
    "                print(f\"{epoch}_{val_accuarcy} 의 검증 정확도인 베스트 모델 저장\")\n",
    "\n",
    "            val_accuracies.append(val_accuarcy)\n",
    "            print(f\"에포크별 검증 loss : {epoch_val_loss:.3f} / 검증 정확도 : {val_accuarcy:.2%}\")\n",
    "\n",
    "        #val_acc가 가장 높을 때 모델 저장하는 코드 추가하기\n",
    "    return train_losses, val_losses, train_accuracies, val_accuracies"
   ]
  },
  {
   "cell_type": "code",
   "execution_count": null,
   "metadata": {},
   "outputs": [],
   "source": []
  },
  {
   "cell_type": "code",
   "execution_count": 61,
   "metadata": {},
   "outputs": [
    {
     "data": {
      "application/vnd.jupyter.widget-view+json": {
       "model_id": "a8a0348ca82c435ea307098fe5f51293",
       "version_major": 2,
       "version_minor": 0
      },
      "text/plain": [
       "0 별 학습 진행중:   0%|          | 0/43 [00:00<?, ?it/s]"
      ]
     },
     "metadata": {},
     "output_type": "display_data"
    },
    {
     "name": "stdout",
     "output_type": "stream",
     "text": [
      "에포크별 학습 loss : 2.243 / 학습 정확도 : 29.32%\n",
      "0_0.29423078894615173 의 검증 정확도인 베스트 모델 저장\n",
      "에포크별 검증 loss : 16.230 / 검증 정확도 : 29.42%\n"
     ]
    },
    {
     "data": {
      "application/vnd.jupyter.widget-view+json": {
       "model_id": "47aa026f48a94efc84f505e7baaabc86",
       "version_major": 2,
       "version_minor": 0
      },
      "text/plain": [
       "1 별 학습 진행중:   0%|          | 0/43 [00:00<?, ?it/s]"
      ]
     },
     "metadata": {},
     "output_type": "display_data"
    },
    {
     "name": "stdout",
     "output_type": "stream",
     "text": [
      "에포크별 학습 loss : 1.534 / 학습 정확도 : 32.02%\n",
      "1_0.32499998807907104 의 검증 정확도인 베스트 모델 저장\n",
      "에포크별 검증 loss : 14.816 / 검증 정확도 : 32.50%\n"
     ]
    },
    {
     "data": {
      "application/vnd.jupyter.widget-view+json": {
       "model_id": "076b8a53ce7444f9b475b458717d5667",
       "version_major": 2,
       "version_minor": 0
      },
      "text/plain": [
       "2 별 학습 진행중:   0%|          | 0/43 [00:00<?, ?it/s]"
      ]
     },
     "metadata": {},
     "output_type": "display_data"
    },
    {
     "name": "stdout",
     "output_type": "stream",
     "text": [
      "에포크별 학습 loss : 1.556 / 학습 정확도 : 25.20%\n",
      "에포크별 검증 loss : 4.469 / 검증 정확도 : 32.50%\n"
     ]
    },
    {
     "data": {
      "application/vnd.jupyter.widget-view+json": {
       "model_id": "51741825b9d44f998e23297b6ab5126b",
       "version_major": 2,
       "version_minor": 0
      },
      "text/plain": [
       "3 별 학습 진행중:   0%|          | 0/43 [00:00<?, ?it/s]"
      ]
     },
     "metadata": {},
     "output_type": "display_data"
    },
    {
     "name": "stdout",
     "output_type": "stream",
     "text": [
      "에포크별 학습 loss : 1.434 / 학습 정확도 : 27.54%\n",
      "에포크별 검증 loss : 2.115 / 검증 정확도 : 28.85%\n"
     ]
    },
    {
     "data": {
      "application/vnd.jupyter.widget-view+json": {
       "model_id": "67703e18ff78472793a4805392f2b1f8",
       "version_major": 2,
       "version_minor": 0
      },
      "text/plain": [
       "4 별 학습 진행중:   0%|          | 0/43 [00:00<?, ?it/s]"
      ]
     },
     "metadata": {},
     "output_type": "display_data"
    },
    {
     "name": "stdout",
     "output_type": "stream",
     "text": [
      "에포크별 학습 loss : 1.398 / 학습 정확도 : 22.66%\n",
      "4_0.3519230782985687 의 검증 정확도인 베스트 모델 저장\n",
      "에포크별 검증 loss : 1.367 / 검증 정확도 : 35.19%\n"
     ]
    },
    {
     "data": {
      "application/vnd.jupyter.widget-view+json": {
       "model_id": "5aadb1d3741d49bfaf5b49ff50c824f9",
       "version_major": 2,
       "version_minor": 0
      },
      "text/plain": [
       "5 별 학습 진행중:   0%|          | 0/43 [00:00<?, ?it/s]"
      ]
     },
     "metadata": {},
     "output_type": "display_data"
    },
    {
     "name": "stdout",
     "output_type": "stream",
     "text": [
      "에포크별 학습 loss : 1.382 / 학습 정확도 : 27.18%\n",
      "에포크별 검증 loss : 1.345 / 검증 정확도 : 30.38%\n"
     ]
    },
    {
     "data": {
      "application/vnd.jupyter.widget-view+json": {
       "model_id": "98abcb40191740388a5c3c4920a75daa",
       "version_major": 2,
       "version_minor": 0
      },
      "text/plain": [
       "6 별 학습 진행중:   0%|          | 0/43 [00:00<?, ?it/s]"
      ]
     },
     "metadata": {},
     "output_type": "display_data"
    },
    {
     "name": "stdout",
     "output_type": "stream",
     "text": [
      "에포크별 학습 loss : 1.380 / 학습 정확도 : 27.56%\n",
      "에포크별 검증 loss : 1.327 / 검증 정확도 : 28.65%\n"
     ]
    },
    {
     "data": {
      "application/vnd.jupyter.widget-view+json": {
       "model_id": "ff8de54c895f45a983c6cb3dca1a2811",
       "version_major": 2,
       "version_minor": 0
      },
      "text/plain": [
       "7 별 학습 진행중:   0%|          | 0/43 [00:00<?, ?it/s]"
      ]
     },
     "metadata": {},
     "output_type": "display_data"
    },
    {
     "name": "stdout",
     "output_type": "stream",
     "text": [
      "에포크별 학습 loss : 1.372 / 학습 정확도 : 29.73%\n",
      "7_0.3673076927661896 의 검증 정확도인 베스트 모델 저장\n",
      "에포크별 검증 loss : 1.283 / 검증 정확도 : 36.73%\n"
     ]
    },
    {
     "data": {
      "application/vnd.jupyter.widget-view+json": {
       "model_id": "e5cd4200d028433c85c530968c5b8284",
       "version_major": 2,
       "version_minor": 0
      },
      "text/plain": [
       "8 별 학습 진행중:   0%|          | 0/43 [00:00<?, ?it/s]"
      ]
     },
     "metadata": {},
     "output_type": "display_data"
    },
    {
     "name": "stdout",
     "output_type": "stream",
     "text": [
      "에포크별 학습 loss : 1.351 / 학습 정확도 : 36.97%\n",
      "에포크별 검증 loss : 1.333 / 검증 정확도 : 35.38%\n"
     ]
    },
    {
     "data": {
      "application/vnd.jupyter.widget-view+json": {
       "model_id": "61debccecb9e4ca89db843b53956b6a7",
       "version_major": 2,
       "version_minor": 0
      },
      "text/plain": [
       "9 별 학습 진행중:   0%|          | 0/43 [00:00<?, ?it/s]"
      ]
     },
     "metadata": {},
     "output_type": "display_data"
    },
    {
     "name": "stdout",
     "output_type": "stream",
     "text": [
      "에포크별 학습 loss : 1.347 / 학습 정확도 : 31.37%\n",
      "9_0.3730769455432892 의 검증 정확도인 베스트 모델 저장\n",
      "에포크별 검증 loss : 1.330 / 검증 정확도 : 37.31%\n"
     ]
    },
    {
     "data": {
      "application/vnd.jupyter.widget-view+json": {
       "model_id": "f5b6837c178e4b5d8ab023dc1b0f31c4",
       "version_major": 2,
       "version_minor": 0
      },
      "text/plain": [
       "10 별 학습 진행중:   0%|          | 0/43 [00:00<?, ?it/s]"
      ]
     },
     "metadata": {},
     "output_type": "display_data"
    },
    {
     "name": "stdout",
     "output_type": "stream",
     "text": [
      "에포크별 학습 loss : 1.320 / 학습 정확도 : 35.09%\n",
      "에포크별 검증 loss : 1.252 / 검증 정확도 : 34.23%\n"
     ]
    },
    {
     "data": {
      "application/vnd.jupyter.widget-view+json": {
       "model_id": "796924287ab54d0eb665e1d35d064875",
       "version_major": 2,
       "version_minor": 0
      },
      "text/plain": [
       "11 별 학습 진행중:   0%|          | 0/43 [00:00<?, ?it/s]"
      ]
     },
     "metadata": {},
     "output_type": "display_data"
    },
    {
     "name": "stdout",
     "output_type": "stream",
     "text": [
      "에포크별 학습 loss : 1.364 / 학습 정확도 : 30.01%\n",
      "에포크별 검증 loss : 1.384 / 검증 정확도 : 28.65%\n"
     ]
    },
    {
     "data": {
      "application/vnd.jupyter.widget-view+json": {
       "model_id": "661ce998833d41c38e5fc6f2b9093fc0",
       "version_major": 2,
       "version_minor": 0
      },
      "text/plain": [
       "12 별 학습 진행중:   0%|          | 0/43 [00:00<?, ?it/s]"
      ]
     },
     "metadata": {},
     "output_type": "display_data"
    },
    {
     "name": "stdout",
     "output_type": "stream",
     "text": [
      "에포크별 학습 loss : 1.374 / 학습 정확도 : 27.39%\n",
      "에포크별 검증 loss : 1.304 / 검증 정확도 : 28.46%\n"
     ]
    },
    {
     "data": {
      "application/vnd.jupyter.widget-view+json": {
       "model_id": "5101f26b760844cc9a2c16a0ad6d8f5a",
       "version_major": 2,
       "version_minor": 0
      },
      "text/plain": [
       "13 별 학습 진행중:   0%|          | 0/43 [00:00<?, ?it/s]"
      ]
     },
     "metadata": {},
     "output_type": "display_data"
    },
    {
     "name": "stdout",
     "output_type": "stream",
     "text": [
      "에포크별 학습 loss : 1.339 / 학습 정확도 : 30.67%\n",
      "13_0.4038461744785309 의 검증 정확도인 베스트 모델 저장\n",
      "에포크별 검증 loss : 1.285 / 검증 정확도 : 40.38%\n"
     ]
    },
    {
     "data": {
      "application/vnd.jupyter.widget-view+json": {
       "model_id": "f3cfa9c11b434600aa65ba624f039d76",
       "version_major": 2,
       "version_minor": 0
      },
      "text/plain": [
       "14 별 학습 진행중:   0%|          | 0/43 [00:00<?, ?it/s]"
      ]
     },
     "metadata": {},
     "output_type": "display_data"
    },
    {
     "name": "stdout",
     "output_type": "stream",
     "text": [
      "에포크별 학습 loss : 1.353 / 학습 정확도 : 33.12%\n",
      "에포크별 검증 loss : 1.296 / 검증 정확도 : 39.04%\n"
     ]
    },
    {
     "data": {
      "application/vnd.jupyter.widget-view+json": {
       "model_id": "a398ac0e01f6446c8fdccf856be1bac5",
       "version_major": 2,
       "version_minor": 0
      },
      "text/plain": [
       "15 별 학습 진행중:   0%|          | 0/43 [00:00<?, ?it/s]"
      ]
     },
     "metadata": {},
     "output_type": "display_data"
    },
    {
     "name": "stdout",
     "output_type": "stream",
     "text": [
      "에포크별 학습 loss : 1.308 / 학습 정확도 : 40.75%\n",
      "에포크별 검증 loss : 1.221 / 검증 정확도 : 39.62%\n"
     ]
    },
    {
     "data": {
      "application/vnd.jupyter.widget-view+json": {
       "model_id": "b0b6c7c699ef4b33b4f3fb2d5dbafdf2",
       "version_major": 2,
       "version_minor": 0
      },
      "text/plain": [
       "16 별 학습 진행중:   0%|          | 0/43 [00:00<?, ?it/s]"
      ]
     },
     "metadata": {},
     "output_type": "display_data"
    },
    {
     "name": "stdout",
     "output_type": "stream",
     "text": [
      "에포크별 학습 loss : 1.293 / 학습 정확도 : 38.64%\n",
      "16_0.45961540937423706 의 검증 정확도인 베스트 모델 저장\n",
      "에포크별 검증 loss : 1.380 / 검증 정확도 : 45.96%\n"
     ]
    },
    {
     "data": {
      "application/vnd.jupyter.widget-view+json": {
       "model_id": "9d6aa5a72c1c4f138ba9ac9fe3080d3b",
       "version_major": 2,
       "version_minor": 0
      },
      "text/plain": [
       "17 별 학습 진행중:   0%|          | 0/43 [00:00<?, ?it/s]"
      ]
     },
     "metadata": {},
     "output_type": "display_data"
    },
    {
     "name": "stdout",
     "output_type": "stream",
     "text": [
      "에포크별 학습 loss : 1.298 / 학습 정확도 : 39.23%\n",
      "에포크별 검증 loss : 1.388 / 검증 정확도 : 41.35%\n"
     ]
    },
    {
     "data": {
      "application/vnd.jupyter.widget-view+json": {
       "model_id": "59f8e9d137234a858e110506c5a7f59d",
       "version_major": 2,
       "version_minor": 0
      },
      "text/plain": [
       "18 별 학습 진행중:   0%|          | 0/43 [00:00<?, ?it/s]"
      ]
     },
     "metadata": {},
     "output_type": "display_data"
    },
    {
     "name": "stdout",
     "output_type": "stream",
     "text": [
      "에포크별 학습 loss : 1.310 / 학습 정확도 : 37.85%\n",
      "에포크별 검증 loss : 1.253 / 검증 정확도 : 43.46%\n"
     ]
    },
    {
     "data": {
      "application/vnd.jupyter.widget-view+json": {
       "model_id": "3dda6946227341369ad2aff575f18380",
       "version_major": 2,
       "version_minor": 0
      },
      "text/plain": [
       "19 별 학습 진행중:   0%|          | 0/43 [00:00<?, ?it/s]"
      ]
     },
     "metadata": {},
     "output_type": "display_data"
    },
    {
     "name": "stdout",
     "output_type": "stream",
     "text": [
      "에포크별 학습 loss : 1.292 / 학습 정확도 : 39.82%\n",
      "에포크별 검증 loss : 1.328 / 검증 정확도 : 35.19%\n"
     ]
    },
    {
     "data": {
      "application/vnd.jupyter.widget-view+json": {
       "model_id": "1013824ab81e46a8b425b6a1da0a211a",
       "version_major": 2,
       "version_minor": 0
      },
      "text/plain": [
       "20 별 학습 진행중:   0%|          | 0/43 [00:00<?, ?it/s]"
      ]
     },
     "metadata": {},
     "output_type": "display_data"
    },
    {
     "name": "stdout",
     "output_type": "stream",
     "text": [
      "에포크별 학습 loss : 1.279 / 학습 정확도 : 42.35%\n",
      "에포크별 검증 loss : 1.433 / 검증 정확도 : 31.35%\n"
     ]
    },
    {
     "data": {
      "application/vnd.jupyter.widget-view+json": {
       "model_id": "8c29c27caa8e4755a715ede4c9a21902",
       "version_major": 2,
       "version_minor": 0
      },
      "text/plain": [
       "21 별 학습 진행중:   0%|          | 0/43 [00:00<?, ?it/s]"
      ]
     },
     "metadata": {},
     "output_type": "display_data"
    },
    {
     "name": "stdout",
     "output_type": "stream",
     "text": [
      "에포크별 학습 loss : 1.260 / 학습 정확도 : 43.41%\n",
      "에포크별 검증 loss : 1.308 / 검증 정확도 : 43.46%\n"
     ]
    },
    {
     "data": {
      "application/vnd.jupyter.widget-view+json": {
       "model_id": "4476f0dbb3c348ce83b5871179a03fbb",
       "version_major": 2,
       "version_minor": 0
      },
      "text/plain": [
       "22 별 학습 진행중:   0%|          | 0/43 [00:00<?, ?it/s]"
      ]
     },
     "metadata": {},
     "output_type": "display_data"
    },
    {
     "name": "stdout",
     "output_type": "stream",
     "text": [
      "에포크별 학습 loss : 1.247 / 학습 정확도 : 41.34%\n",
      "22_0.47884613275527954 의 검증 정확도인 베스트 모델 저장\n",
      "에포크별 검증 loss : 1.245 / 검증 정확도 : 47.88%\n"
     ]
    },
    {
     "data": {
      "application/vnd.jupyter.widget-view+json": {
       "model_id": "f6a54387409248398f87c82eb6cd8dd6",
       "version_major": 2,
       "version_minor": 0
      },
      "text/plain": [
       "23 별 학습 진행중:   0%|          | 0/43 [00:00<?, ?it/s]"
      ]
     },
     "metadata": {},
     "output_type": "display_data"
    },
    {
     "name": "stdout",
     "output_type": "stream",
     "text": [
      "에포크별 학습 loss : 1.240 / 학습 정확도 : 43.66%\n",
      "에포크별 검증 loss : 1.767 / 검증 정확도 : 37.69%\n"
     ]
    },
    {
     "data": {
      "application/vnd.jupyter.widget-view+json": {
       "model_id": "fc7c77b595bb4b60b6ac718d1e0236dc",
       "version_major": 2,
       "version_minor": 0
      },
      "text/plain": [
       "24 별 학습 진행중:   0%|          | 0/43 [00:00<?, ?it/s]"
      ]
     },
     "metadata": {},
     "output_type": "display_data"
    },
    {
     "name": "stdout",
     "output_type": "stream",
     "text": [
      "에포크별 학습 loss : 1.238 / 학습 정확도 : 44.87%\n",
      "에포크별 검증 loss : 1.249 / 검증 정확도 : 43.46%\n"
     ]
    },
    {
     "data": {
      "application/vnd.jupyter.widget-view+json": {
       "model_id": "a74d7cc0ee1c4643810b24cca400764d",
       "version_major": 2,
       "version_minor": 0
      },
      "text/plain": [
       "25 별 학습 진행중:   0%|          | 0/43 [00:00<?, ?it/s]"
      ]
     },
     "metadata": {},
     "output_type": "display_data"
    },
    {
     "name": "stdout",
     "output_type": "stream",
     "text": [
      "에포크별 학습 loss : 1.236 / 학습 정확도 : 46.36%\n",
      "에포크별 검증 loss : 1.527 / 검증 정확도 : 39.81%\n"
     ]
    },
    {
     "data": {
      "application/vnd.jupyter.widget-view+json": {
       "model_id": "b1b61000724240d689fc0608bafff371",
       "version_major": 2,
       "version_minor": 0
      },
      "text/plain": [
       "26 별 학습 진행중:   0%|          | 0/43 [00:00<?, ?it/s]"
      ]
     },
     "metadata": {},
     "output_type": "display_data"
    },
    {
     "name": "stdout",
     "output_type": "stream",
     "text": [
      "에포크별 학습 loss : 1.186 / 학습 정확도 : 49.45%\n",
      "에포크별 검증 loss : 1.307 / 검증 정확도 : 41.54%\n"
     ]
    },
    {
     "data": {
      "application/vnd.jupyter.widget-view+json": {
       "model_id": "88c351ccedc24754a2cf065d90e0d8cb",
       "version_major": 2,
       "version_minor": 0
      },
      "text/plain": [
       "27 별 학습 진행중:   0%|          | 0/43 [00:00<?, ?it/s]"
      ]
     },
     "metadata": {},
     "output_type": "display_data"
    },
    {
     "name": "stdout",
     "output_type": "stream",
     "text": [
      "에포크별 학습 loss : 1.224 / 학습 정확도 : 47.47%\n",
      "에포크별 검증 loss : 1.279 / 검증 정확도 : 42.12%\n"
     ]
    },
    {
     "data": {
      "application/vnd.jupyter.widget-view+json": {
       "model_id": "9c6f2463b1f34588b98e622d6b87ffa7",
       "version_major": 2,
       "version_minor": 0
      },
      "text/plain": [
       "28 별 학습 진행중:   0%|          | 0/43 [00:00<?, ?it/s]"
      ]
     },
     "metadata": {},
     "output_type": "display_data"
    },
    {
     "name": "stdout",
     "output_type": "stream",
     "text": [
      "에포크별 학습 loss : 1.161 / 학습 정확도 : 49.69%\n",
      "28_0.5538461804389954 의 검증 정확도인 베스트 모델 저장\n",
      "에포크별 검증 loss : 1.229 / 검증 정확도 : 55.38%\n"
     ]
    },
    {
     "data": {
      "application/vnd.jupyter.widget-view+json": {
       "model_id": "de924e25ec8b480da4d3cacb011245ee",
       "version_major": 2,
       "version_minor": 0
      },
      "text/plain": [
       "29 별 학습 진행중:   0%|          | 0/43 [00:00<?, ?it/s]"
      ]
     },
     "metadata": {},
     "output_type": "display_data"
    },
    {
     "name": "stdout",
     "output_type": "stream",
     "text": [
      "에포크별 학습 loss : 1.182 / 학습 정확도 : 47.83%\n",
      "에포크별 검증 loss : 1.405 / 검증 정확도 : 39.62%\n"
     ]
    },
    {
     "data": {
      "application/vnd.jupyter.widget-view+json": {
       "model_id": "cc62644e486744d0894ee01bb1761017",
       "version_major": 2,
       "version_minor": 0
      },
      "text/plain": [
       "30 별 학습 진행중:   0%|          | 0/43 [00:00<?, ?it/s]"
      ]
     },
     "metadata": {},
     "output_type": "display_data"
    },
    {
     "name": "stdout",
     "output_type": "stream",
     "text": [
      "에포크별 학습 loss : 1.154 / 학습 정확도 : 48.55%\n",
      "에포크별 검증 loss : 1.202 / 검증 정확도 : 42.88%\n"
     ]
    },
    {
     "data": {
      "application/vnd.jupyter.widget-view+json": {
       "model_id": "2887ded688b54f6897aed1c392c877a1",
       "version_major": 2,
       "version_minor": 0
      },
      "text/plain": [
       "31 별 학습 진행중:   0%|          | 0/43 [00:00<?, ?it/s]"
      ]
     },
     "metadata": {},
     "output_type": "display_data"
    },
    {
     "name": "stdout",
     "output_type": "stream",
     "text": [
      "에포크별 학습 loss : 1.135 / 학습 정확도 : 51.57%\n",
      "에포크별 검증 loss : 1.288 / 검증 정확도 : 49.81%\n"
     ]
    },
    {
     "data": {
      "application/vnd.jupyter.widget-view+json": {
       "model_id": "8a9582d8aa1f4cbb878d69def1c98a7c",
       "version_major": 2,
       "version_minor": 0
      },
      "text/plain": [
       "32 별 학습 진행중:   0%|          | 0/43 [00:00<?, ?it/s]"
      ]
     },
     "metadata": {},
     "output_type": "display_data"
    },
    {
     "name": "stdout",
     "output_type": "stream",
     "text": [
      "에포크별 학습 loss : 1.078 / 학습 정확도 : 53.95%\n",
      "에포크별 검증 loss : 1.298 / 검증 정확도 : 49.81%\n"
     ]
    },
    {
     "data": {
      "application/vnd.jupyter.widget-view+json": {
       "model_id": "aebb4eb75a4d4b15b5b069b809a6b485",
       "version_major": 2,
       "version_minor": 0
      },
      "text/plain": [
       "33 별 학습 진행중:   0%|          | 0/43 [00:00<?, ?it/s]"
      ]
     },
     "metadata": {},
     "output_type": "display_data"
    },
    {
     "name": "stdout",
     "output_type": "stream",
     "text": [
      "에포크별 학습 loss : 1.134 / 학습 정확도 : 51.00%\n",
      "에포크별 검증 loss : 1.440 / 검증 정확도 : 41.54%\n"
     ]
    },
    {
     "data": {
      "application/vnd.jupyter.widget-view+json": {
       "model_id": "264ab849189a43348f3d339ff6d841c4",
       "version_major": 2,
       "version_minor": 0
      },
      "text/plain": [
       "34 별 학습 진행중:   0%|          | 0/43 [00:00<?, ?it/s]"
      ]
     },
     "metadata": {},
     "output_type": "display_data"
    },
    {
     "name": "stdout",
     "output_type": "stream",
     "text": [
      "에포크별 학습 loss : 1.070 / 학습 정확도 : 53.57%\n",
      "에포크별 검증 loss : 1.321 / 검증 정확도 : 43.46%\n"
     ]
    },
    {
     "data": {
      "application/vnd.jupyter.widget-view+json": {
       "model_id": "31d9da42bb37468a9593341d0e458d62",
       "version_major": 2,
       "version_minor": 0
      },
      "text/plain": [
       "35 별 학습 진행중:   0%|          | 0/43 [00:00<?, ?it/s]"
      ]
     },
     "metadata": {},
     "output_type": "display_data"
    },
    {
     "name": "stdout",
     "output_type": "stream",
     "text": [
      "에포크별 학습 loss : 1.109 / 학습 정확도 : 52.91%\n",
      "에포크별 검증 loss : 1.359 / 검증 정확도 : 37.12%\n"
     ]
    },
    {
     "data": {
      "application/vnd.jupyter.widget-view+json": {
       "model_id": "9884408e8f6c497180a08f6eeadf3aa5",
       "version_major": 2,
       "version_minor": 0
      },
      "text/plain": [
       "36 별 학습 진행중:   0%|          | 0/43 [00:00<?, ?it/s]"
      ]
     },
     "metadata": {},
     "output_type": "display_data"
    },
    {
     "name": "stdout",
     "output_type": "stream",
     "text": [
      "에포크별 학습 loss : 1.106 / 학습 정확도 : 50.29%\n",
      "에포크별 검증 loss : 1.200 / 검증 정확도 : 43.46%\n"
     ]
    },
    {
     "data": {
      "application/vnd.jupyter.widget-view+json": {
       "model_id": "7aa3ab19ac1f4a619f5292ce726a3523",
       "version_major": 2,
       "version_minor": 0
      },
      "text/plain": [
       "37 별 학습 진행중:   0%|          | 0/43 [00:00<?, ?it/s]"
      ]
     },
     "metadata": {},
     "output_type": "display_data"
    },
    {
     "name": "stdout",
     "output_type": "stream",
     "text": [
      "에포크별 학습 loss : 1.124 / 학습 정확도 : 47.72%\n",
      "에포크별 검증 loss : 1.557 / 검증 정확도 : 40.38%\n"
     ]
    },
    {
     "data": {
      "application/vnd.jupyter.widget-view+json": {
       "model_id": "12268c2df65a47638d674c31d5c53fbb",
       "version_major": 2,
       "version_minor": 0
      },
      "text/plain": [
       "38 별 학습 진행중:   0%|          | 0/43 [00:00<?, ?it/s]"
      ]
     },
     "metadata": {},
     "output_type": "display_data"
    },
    {
     "name": "stdout",
     "output_type": "stream",
     "text": [
      "에포크별 학습 loss : 1.050 / 학습 정확도 : 55.31%\n",
      "에포크별 검증 loss : 1.250 / 검증 정확도 : 47.69%\n"
     ]
    },
    {
     "data": {
      "application/vnd.jupyter.widget-view+json": {
       "model_id": "9b3a7d3cdcef457c8e419cfb40fa1be6",
       "version_major": 2,
       "version_minor": 0
      },
      "text/plain": [
       "39 별 학습 진행중:   0%|          | 0/43 [00:00<?, ?it/s]"
      ]
     },
     "metadata": {},
     "output_type": "display_data"
    },
    {
     "name": "stdout",
     "output_type": "stream",
     "text": [
      "에포크별 학습 loss : 0.951 / 학습 정확도 : 64.74%\n",
      "에포크별 검증 loss : 1.230 / 검증 정확도 : 44.04%\n"
     ]
    },
    {
     "data": {
      "application/vnd.jupyter.widget-view+json": {
       "model_id": "3fef199e798a4ef9baf6f28c5c3d4d8a",
       "version_major": 2,
       "version_minor": 0
      },
      "text/plain": [
       "40 별 학습 진행중:   0%|          | 0/43 [00:00<?, ?it/s]"
      ]
     },
     "metadata": {},
     "output_type": "display_data"
    },
    {
     "name": "stdout",
     "output_type": "stream",
     "text": [
      "에포크별 학습 loss : 1.010 / 학습 정확도 : 56.85%\n",
      "에포크별 검증 loss : 1.260 / 검증 정확도 : 42.12%\n"
     ]
    },
    {
     "data": {
      "application/vnd.jupyter.widget-view+json": {
       "model_id": "a8202a1901c44feabc2ffcc4281c0a39",
       "version_major": 2,
       "version_minor": 0
      },
      "text/plain": [
       "41 별 학습 진행중:   0%|          | 0/43 [00:00<?, ?it/s]"
      ]
     },
     "metadata": {},
     "output_type": "display_data"
    },
    {
     "name": "stdout",
     "output_type": "stream",
     "text": [
      "에포크별 학습 loss : 0.931 / 학습 정확도 : 61.09%\n",
      "에포크별 검증 loss : 1.216 / 검증 정확도 : 40.38%\n"
     ]
    },
    {
     "data": {
      "application/vnd.jupyter.widget-view+json": {
       "model_id": "b0fbcb5adee948cb99f3bb1d0eff1b30",
       "version_major": 2,
       "version_minor": 0
      },
      "text/plain": [
       "42 별 학습 진행중:   0%|          | 0/43 [00:00<?, ?it/s]"
      ]
     },
     "metadata": {},
     "output_type": "display_data"
    },
    {
     "name": "stdout",
     "output_type": "stream",
     "text": [
      "에포크별 학습 loss : 0.940 / 학습 정확도 : 65.82%\n",
      "에포크별 검증 loss : 1.396 / 검증 정확도 : 45.38%\n"
     ]
    },
    {
     "data": {
      "application/vnd.jupyter.widget-view+json": {
       "model_id": "856637c73373493c9ed15eb12a560709",
       "version_major": 2,
       "version_minor": 0
      },
      "text/plain": [
       "43 별 학습 진행중:   0%|          | 0/43 [00:00<?, ?it/s]"
      ]
     },
     "metadata": {},
     "output_type": "display_data"
    },
    {
     "name": "stdout",
     "output_type": "stream",
     "text": [
      "에포크별 학습 loss : 0.930 / 학습 정확도 : 63.26%\n",
      "에포크별 검증 loss : 1.416 / 검증 정확도 : 49.81%\n"
     ]
    },
    {
     "data": {
      "application/vnd.jupyter.widget-view+json": {
       "model_id": "b73dd82130b047aca43e810d876d689d",
       "version_major": 2,
       "version_minor": 0
      },
      "text/plain": [
       "44 별 학습 진행중:   0%|          | 0/43 [00:00<?, ?it/s]"
      ]
     },
     "metadata": {},
     "output_type": "display_data"
    },
    {
     "name": "stdout",
     "output_type": "stream",
     "text": [
      "에포크별 학습 loss : 0.902 / 학습 정확도 : 62.73%\n",
      "에포크별 검증 loss : 1.474 / 검증 정확도 : 49.62%\n"
     ]
    },
    {
     "data": {
      "application/vnd.jupyter.widget-view+json": {
       "model_id": "0e6827978edc4e8ca206d90caf70574d",
       "version_major": 2,
       "version_minor": 0
      },
      "text/plain": [
       "45 별 학습 진행중:   0%|          | 0/43 [00:00<?, ?it/s]"
      ]
     },
     "metadata": {},
     "output_type": "display_data"
    },
    {
     "name": "stdout",
     "output_type": "stream",
     "text": [
      "에포크별 학습 loss : 0.919 / 학습 정확도 : 65.63%\n",
      "에포크별 검증 loss : 1.536 / 검증 정확도 : 38.85%\n"
     ]
    },
    {
     "data": {
      "application/vnd.jupyter.widget-view+json": {
       "model_id": "58f77063dcb74a8d852c4665a7dce4d8",
       "version_major": 2,
       "version_minor": 0
      },
      "text/plain": [
       "46 별 학습 진행중:   0%|          | 0/43 [00:00<?, ?it/s]"
      ]
     },
     "metadata": {},
     "output_type": "display_data"
    },
    {
     "name": "stdout",
     "output_type": "stream",
     "text": [
      "에포크별 학습 loss : 0.825 / 학습 정확도 : 64.68%\n",
      "에포크별 검증 loss : 1.257 / 검증 정확도 : 54.62%\n"
     ]
    },
    {
     "data": {
      "application/vnd.jupyter.widget-view+json": {
       "model_id": "4e79945f69bb45db8afbd756a8773b23",
       "version_major": 2,
       "version_minor": 0
      },
      "text/plain": [
       "47 별 학습 진행중:   0%|          | 0/43 [00:00<?, ?it/s]"
      ]
     },
     "metadata": {},
     "output_type": "display_data"
    },
    {
     "name": "stdout",
     "output_type": "stream",
     "text": [
      "에포크별 학습 loss : 0.677 / 학습 정확도 : 74.16%\n",
      "47_0.5653846263885498 의 검증 정확도인 베스트 모델 저장\n",
      "에포크별 검증 loss : 0.995 / 검증 정확도 : 56.54%\n"
     ]
    },
    {
     "data": {
      "application/vnd.jupyter.widget-view+json": {
       "model_id": "d8b23815e7474c808c720dc5f9f0175c",
       "version_major": 2,
       "version_minor": 0
      },
      "text/plain": [
       "48 별 학습 진행중:   0%|          | 0/43 [00:00<?, ?it/s]"
      ]
     },
     "metadata": {},
     "output_type": "display_data"
    },
    {
     "name": "stdout",
     "output_type": "stream",
     "text": [
      "에포크별 학습 loss : 0.774 / 학습 정확도 : 69.56%\n",
      "에포크별 검증 loss : 1.316 / 검증 정확도 : 50.96%\n"
     ]
    },
    {
     "data": {
      "application/vnd.jupyter.widget-view+json": {
       "model_id": "e811945a404648c5ad0cc27408c0600f",
       "version_major": 2,
       "version_minor": 0
      },
      "text/plain": [
       "49 별 학습 진행중:   0%|          | 0/43 [00:00<?, ?it/s]"
      ]
     },
     "metadata": {},
     "output_type": "display_data"
    },
    {
     "name": "stdout",
     "output_type": "stream",
     "text": [
      "에포크별 학습 loss : 0.689 / 학습 정확도 : 73.25%\n",
      "49_0.5923076868057251 의 검증 정확도인 베스트 모델 저장\n",
      "에포크별 검증 loss : 1.018 / 검증 정확도 : 59.23%\n"
     ]
    },
    {
     "data": {
      "application/vnd.jupyter.widget-view+json": {
       "model_id": "87bc52e0fe174c16a62a45f1269ba5ec",
       "version_major": 2,
       "version_minor": 0
      },
      "text/plain": [
       "50 별 학습 진행중:   0%|          | 0/43 [00:00<?, ?it/s]"
      ]
     },
     "metadata": {},
     "output_type": "display_data"
    },
    {
     "name": "stdout",
     "output_type": "stream",
     "text": [
      "에포크별 학습 loss : 0.735 / 학습 정확도 : 71.17%\n",
      "에포크별 검증 loss : 1.365 / 검증 정확도 : 51.54%\n"
     ]
    },
    {
     "data": {
      "application/vnd.jupyter.widget-view+json": {
       "model_id": "63b156be5db647dfb3578d3c3febca5e",
       "version_major": 2,
       "version_minor": 0
      },
      "text/plain": [
       "51 별 학습 진행중:   0%|          | 0/43 [00:00<?, ?it/s]"
      ]
     },
     "metadata": {},
     "output_type": "display_data"
    },
    {
     "name": "stdout",
     "output_type": "stream",
     "text": [
      "에포크별 학습 loss : 0.675 / 학습 정확도 : 70.50%\n",
      "에포크별 검증 loss : 1.143 / 검증 정확도 : 57.12%\n"
     ]
    },
    {
     "data": {
      "application/vnd.jupyter.widget-view+json": {
       "model_id": "fb8722f3c8d54ae2968ba09fda8ea227",
       "version_major": 2,
       "version_minor": 0
      },
      "text/plain": [
       "52 별 학습 진행중:   0%|          | 0/43 [00:00<?, ?it/s]"
      ]
     },
     "metadata": {},
     "output_type": "display_data"
    },
    {
     "name": "stdout",
     "output_type": "stream",
     "text": [
      "에포크별 학습 loss : 0.526 / 학습 정확도 : 81.59%\n",
      "52_0.6326923370361328 의 검증 정확도인 베스트 모델 저장\n",
      "에포크별 검증 loss : 1.377 / 검증 정확도 : 63.27%\n"
     ]
    },
    {
     "data": {
      "application/vnd.jupyter.widget-view+json": {
       "model_id": "bb493eb0fdb0481389f22d4bdb4431d5",
       "version_major": 2,
       "version_minor": 0
      },
      "text/plain": [
       "53 별 학습 진행중:   0%|          | 0/43 [00:00<?, ?it/s]"
      ]
     },
     "metadata": {},
     "output_type": "display_data"
    },
    {
     "name": "stdout",
     "output_type": "stream",
     "text": [
      "에포크별 학습 loss : 0.519 / 학습 정확도 : 78.66%\n",
      "에포크별 검증 loss : 1.134 / 검증 정확도 : 60.96%\n"
     ]
    },
    {
     "data": {
      "application/vnd.jupyter.widget-view+json": {
       "model_id": "1cdca859c6cb4ad39f614704a72f6217",
       "version_major": 2,
       "version_minor": 0
      },
      "text/plain": [
       "54 별 학습 진행중:   0%|          | 0/43 [00:00<?, ?it/s]"
      ]
     },
     "metadata": {},
     "output_type": "display_data"
    },
    {
     "name": "stdout",
     "output_type": "stream",
     "text": [
      "에포크별 학습 loss : 0.490 / 학습 정확도 : 82.74%\n",
      "에포크별 검증 loss : 1.419 / 검증 정확도 : 61.54%\n"
     ]
    },
    {
     "data": {
      "application/vnd.jupyter.widget-view+json": {
       "model_id": "a45f4a9055854b899df3388150073d9f",
       "version_major": 2,
       "version_minor": 0
      },
      "text/plain": [
       "55 별 학습 진행중:   0%|          | 0/43 [00:00<?, ?it/s]"
      ]
     },
     "metadata": {},
     "output_type": "display_data"
    },
    {
     "name": "stdout",
     "output_type": "stream",
     "text": [
      "에포크별 학습 loss : 0.461 / 학습 정확도 : 83.40%\n",
      "에포크별 검증 loss : 1.345 / 검증 정확도 : 60.19%\n"
     ]
    },
    {
     "data": {
      "application/vnd.jupyter.widget-view+json": {
       "model_id": "8eb5e008af5f4fd6a95b0f3c0f887286",
       "version_major": 2,
       "version_minor": 0
      },
      "text/plain": [
       "56 별 학습 진행중:   0%|          | 0/43 [00:00<?, ?it/s]"
      ]
     },
     "metadata": {},
     "output_type": "display_data"
    },
    {
     "name": "stdout",
     "output_type": "stream",
     "text": [
      "에포크별 학습 loss : 0.516 / 학습 정확도 : 80.11%\n",
      "56_0.7288461923599243 의 검증 정확도인 베스트 모델 저장\n",
      "에포크별 검증 loss : 0.918 / 검증 정확도 : 72.88%\n"
     ]
    },
    {
     "data": {
      "application/vnd.jupyter.widget-view+json": {
       "model_id": "a1eba429ef394e028fcad29d8daaf4ce",
       "version_major": 2,
       "version_minor": 0
      },
      "text/plain": [
       "57 별 학습 진행중:   0%|          | 0/43 [00:00<?, ?it/s]"
      ]
     },
     "metadata": {},
     "output_type": "display_data"
    },
    {
     "name": "stdout",
     "output_type": "stream",
     "text": [
      "에포크별 학습 loss : 0.379 / 학습 정확도 : 85.91%\n",
      "에포크별 검증 loss : 1.173 / 검증 정확도 : 56.54%\n"
     ]
    },
    {
     "data": {
      "application/vnd.jupyter.widget-view+json": {
       "model_id": "32b8027a33cb4c758875c50809a9cfe0",
       "version_major": 2,
       "version_minor": 0
      },
      "text/plain": [
       "58 별 학습 진행중:   0%|          | 0/43 [00:00<?, ?it/s]"
      ]
     },
     "metadata": {},
     "output_type": "display_data"
    },
    {
     "name": "stdout",
     "output_type": "stream",
     "text": [
      "에포크별 학습 loss : 0.364 / 학습 정확도 : 87.92%\n",
      "에포크별 검증 loss : 1.543 / 검증 정확도 : 54.04%\n"
     ]
    },
    {
     "data": {
      "application/vnd.jupyter.widget-view+json": {
       "model_id": "4f87b173e9e34b4c9e160275c557655d",
       "version_major": 2,
       "version_minor": 0
      },
      "text/plain": [
       "59 별 학습 진행중:   0%|          | 0/43 [00:00<?, ?it/s]"
      ]
     },
     "metadata": {},
     "output_type": "display_data"
    },
    {
     "name": "stdout",
     "output_type": "stream",
     "text": [
      "에포크별 학습 loss : 0.267 / 학습 정확도 : 90.19%\n",
      "에포크별 검증 loss : 0.974 / 검증 정확도 : 64.81%\n"
     ]
    },
    {
     "data": {
      "application/vnd.jupyter.widget-view+json": {
       "model_id": "3a5033f043d54ef589f47f244e3d46ec",
       "version_major": 2,
       "version_minor": 0
      },
      "text/plain": [
       "60 별 학습 진행중:   0%|          | 0/43 [00:00<?, ?it/s]"
      ]
     },
     "metadata": {},
     "output_type": "display_data"
    },
    {
     "name": "stdout",
     "output_type": "stream",
     "text": [
      "에포크별 학습 loss : 0.164 / 학습 정확도 : 95.26%\n",
      "에포크별 검증 loss : 1.131 / 검증 정확도 : 66.54%\n"
     ]
    },
    {
     "data": {
      "application/vnd.jupyter.widget-view+json": {
       "model_id": "b7cfbb13755f47208f99c11a12c889b6",
       "version_major": 2,
       "version_minor": 0
      },
      "text/plain": [
       "61 별 학습 진행중:   0%|          | 0/43 [00:00<?, ?it/s]"
      ]
     },
     "metadata": {},
     "output_type": "display_data"
    },
    {
     "name": "stdout",
     "output_type": "stream",
     "text": [
      "에포크별 학습 loss : 0.323 / 학습 정확도 : 87.66%\n",
      "에포크별 검증 loss : 2.072 / 검증 정확도 : 54.81%\n"
     ]
    },
    {
     "data": {
      "application/vnd.jupyter.widget-view+json": {
       "model_id": "7e806995762e44b7a4dcd85c6fb0a141",
       "version_major": 2,
       "version_minor": 0
      },
      "text/plain": [
       "62 별 학습 진행중:   0%|          | 0/43 [00:00<?, ?it/s]"
      ]
     },
     "metadata": {},
     "output_type": "display_data"
    },
    {
     "name": "stdout",
     "output_type": "stream",
     "text": [
      "에포크별 학습 loss : 0.334 / 학습 정확도 : 89.46%\n",
      "에포크별 검증 loss : 1.089 / 검증 정확도 : 66.73%\n"
     ]
    },
    {
     "data": {
      "application/vnd.jupyter.widget-view+json": {
       "model_id": "9ffc3aff6ffd491fa0be15598114ec6b",
       "version_major": 2,
       "version_minor": 0
      },
      "text/plain": [
       "63 별 학습 진행중:   0%|          | 0/43 [00:00<?, ?it/s]"
      ]
     },
     "metadata": {},
     "output_type": "display_data"
    },
    {
     "name": "stdout",
     "output_type": "stream",
     "text": [
      "에포크별 학습 loss : 0.315 / 학습 정확도 : 87.60%\n",
      "에포크별 검증 loss : 1.537 / 검증 정확도 : 67.12%\n"
     ]
    },
    {
     "data": {
      "application/vnd.jupyter.widget-view+json": {
       "model_id": "52d78f79a7a24fd5acd4468fe1c3ee5c",
       "version_major": 2,
       "version_minor": 0
      },
      "text/plain": [
       "64 별 학습 진행중:   0%|          | 0/43 [00:00<?, ?it/s]"
      ]
     },
     "metadata": {},
     "output_type": "display_data"
    },
    {
     "name": "stdout",
     "output_type": "stream",
     "text": [
      "에포크별 학습 loss : 0.140 / 학습 정확도 : 95.46%\n",
      "에포크별 검증 loss : 1.440 / 검증 정확도 : 66.54%\n"
     ]
    },
    {
     "data": {
      "application/vnd.jupyter.widget-view+json": {
       "model_id": "2ea8435e09414dadb9eae99b3382f9e9",
       "version_major": 2,
       "version_minor": 0
      },
      "text/plain": [
       "65 별 학습 진행중:   0%|          | 0/43 [00:00<?, ?it/s]"
      ]
     },
     "metadata": {},
     "output_type": "display_data"
    },
    {
     "name": "stdout",
     "output_type": "stream",
     "text": [
      "에포크별 학습 loss : 0.114 / 학습 정확도 : 96.45%\n",
      "에포크별 검증 loss : 1.296 / 검증 정확도 : 59.04%\n"
     ]
    },
    {
     "data": {
      "application/vnd.jupyter.widget-view+json": {
       "model_id": "1e2a561810d74ea5be1d8d00aeb42010",
       "version_major": 2,
       "version_minor": 0
      },
      "text/plain": [
       "66 별 학습 진행중:   0%|          | 0/43 [00:00<?, ?it/s]"
      ]
     },
     "metadata": {},
     "output_type": "display_data"
    },
    {
     "name": "stdout",
     "output_type": "stream",
     "text": [
      "에포크별 학습 loss : 0.077 / 학습 정확도 : 97.88%\n",
      "에포크별 검증 loss : 1.276 / 검증 정확도 : 68.46%\n"
     ]
    },
    {
     "data": {
      "application/vnd.jupyter.widget-view+json": {
       "model_id": "0f6b8a46e55442048a0867ed560df093",
       "version_major": 2,
       "version_minor": 0
      },
      "text/plain": [
       "67 별 학습 진행중:   0%|          | 0/43 [00:00<?, ?it/s]"
      ]
     },
     "metadata": {},
     "output_type": "display_data"
    },
    {
     "name": "stdout",
     "output_type": "stream",
     "text": [
      "에포크별 학습 loss : 0.156 / 학습 정확도 : 94.37%\n",
      "에포크별 검증 loss : 1.554 / 검증 정확도 : 62.88%\n"
     ]
    },
    {
     "data": {
      "application/vnd.jupyter.widget-view+json": {
       "model_id": "c57f1c9ab9de4b9d9d0c805b0a0a2276",
       "version_major": 2,
       "version_minor": 0
      },
      "text/plain": [
       "68 별 학습 진행중:   0%|          | 0/43 [00:00<?, ?it/s]"
      ]
     },
     "metadata": {},
     "output_type": "display_data"
    },
    {
     "name": "stdout",
     "output_type": "stream",
     "text": [
      "에포크별 학습 loss : 0.175 / 학습 정확도 : 94.51%\n",
      "에포크별 검증 loss : 1.457 / 검증 정확도 : 59.81%\n"
     ]
    },
    {
     "data": {
      "application/vnd.jupyter.widget-view+json": {
       "model_id": "b6e6d729379c44adae9f7d5d519f027f",
       "version_major": 2,
       "version_minor": 0
      },
      "text/plain": [
       "69 별 학습 진행중:   0%|          | 0/43 [00:00<?, ?it/s]"
      ]
     },
     "metadata": {},
     "output_type": "display_data"
    },
    {
     "name": "stdout",
     "output_type": "stream",
     "text": [
      "에포크별 학습 loss : 0.193 / 학습 정확도 : 92.32%\n",
      "에포크별 검증 loss : 1.978 / 검증 정확도 : 45.77%\n"
     ]
    },
    {
     "data": {
      "application/vnd.jupyter.widget-view+json": {
       "model_id": "5daeb5496ec541f7ba54f9240e72416e",
       "version_major": 2,
       "version_minor": 0
      },
      "text/plain": [
       "70 별 학습 진행중:   0%|          | 0/43 [00:00<?, ?it/s]"
      ]
     },
     "metadata": {},
     "output_type": "display_data"
    },
    {
     "name": "stdout",
     "output_type": "stream",
     "text": [
      "에포크별 학습 loss : 0.149 / 학습 정확도 : 95.02%\n",
      "에포크별 검증 loss : 1.237 / 검증 정확도 : 59.81%\n"
     ]
    },
    {
     "data": {
      "application/vnd.jupyter.widget-view+json": {
       "model_id": "01a994e907cd45ceb4fbf9c5f366a3e6",
       "version_major": 2,
       "version_minor": 0
      },
      "text/plain": [
       "71 별 학습 진행중:   0%|          | 0/43 [00:00<?, ?it/s]"
      ]
     },
     "metadata": {},
     "output_type": "display_data"
    },
    {
     "name": "stdout",
     "output_type": "stream",
     "text": [
      "에포크별 학습 loss : 0.110 / 학습 정확도 : 96.68%\n",
      "에포크별 검증 loss : 1.280 / 검증 정확도 : 67.31%\n"
     ]
    },
    {
     "data": {
      "application/vnd.jupyter.widget-view+json": {
       "model_id": "1ca2ec9bed73436c9f1c47ae77b41325",
       "version_major": 2,
       "version_minor": 0
      },
      "text/plain": [
       "72 별 학습 진행중:   0%|          | 0/43 [00:00<?, ?it/s]"
      ]
     },
     "metadata": {},
     "output_type": "display_data"
    },
    {
     "name": "stdout",
     "output_type": "stream",
     "text": [
      "에포크별 학습 loss : 0.051 / 학습 정확도 : 98.26%\n",
      "에포크별 검증 loss : 1.091 / 검증 정확도 : 60.96%\n"
     ]
    },
    {
     "data": {
      "application/vnd.jupyter.widget-view+json": {
       "model_id": "ec78d0b05545481795dd33b7818e6b2c",
       "version_major": 2,
       "version_minor": 0
      },
      "text/plain": [
       "73 별 학습 진행중:   0%|          | 0/43 [00:00<?, ?it/s]"
      ]
     },
     "metadata": {},
     "output_type": "display_data"
    },
    {
     "name": "stdout",
     "output_type": "stream",
     "text": [
      "에포크별 학습 loss : 0.019 / 학습 정확도 : 99.69%\n",
      "에포크별 검증 loss : 1.658 / 검증 정확도 : 70.96%\n"
     ]
    },
    {
     "data": {
      "application/vnd.jupyter.widget-view+json": {
       "model_id": "6438e28464224e7a9e904e76dbb065b3",
       "version_major": 2,
       "version_minor": 0
      },
      "text/plain": [
       "74 별 학습 진행중:   0%|          | 0/43 [00:00<?, ?it/s]"
      ]
     },
     "metadata": {},
     "output_type": "display_data"
    },
    {
     "name": "stdout",
     "output_type": "stream",
     "text": [
      "에포크별 학습 loss : 0.034 / 학습 정확도 : 99.06%\n",
      "에포크별 검증 loss : 2.343 / 검증 정확도 : 61.54%\n"
     ]
    },
    {
     "data": {
      "application/vnd.jupyter.widget-view+json": {
       "model_id": "7974294df25a4f9594ea835bad4d1829",
       "version_major": 2,
       "version_minor": 0
      },
      "text/plain": [
       "75 별 학습 진행중:   0%|          | 0/43 [00:00<?, ?it/s]"
      ]
     },
     "metadata": {},
     "output_type": "display_data"
    },
    {
     "name": "stdout",
     "output_type": "stream",
     "text": [
      "에포크별 학습 loss : 0.043 / 학습 정확도 : 98.82%\n",
      "에포크별 검증 loss : 1.963 / 검증 정확도 : 57.31%\n"
     ]
    },
    {
     "data": {
      "application/vnd.jupyter.widget-view+json": {
       "model_id": "d190f960fed247018b501ac41d7f3796",
       "version_major": 2,
       "version_minor": 0
      },
      "text/plain": [
       "76 별 학습 진행중:   0%|          | 0/43 [00:00<?, ?it/s]"
      ]
     },
     "metadata": {},
     "output_type": "display_data"
    },
    {
     "name": "stdout",
     "output_type": "stream",
     "text": [
      "에포크별 학습 loss : 0.045 / 학습 정확도 : 98.75%\n",
      "에포크별 검증 loss : 2.080 / 검증 정확도 : 65.96%\n"
     ]
    },
    {
     "data": {
      "application/vnd.jupyter.widget-view+json": {
       "model_id": "9bd455f97f7240d5bfa828597b0f5053",
       "version_major": 2,
       "version_minor": 0
      },
      "text/plain": [
       "77 별 학습 진행중:   0%|          | 0/43 [00:00<?, ?it/s]"
      ]
     },
     "metadata": {},
     "output_type": "display_data"
    },
    {
     "name": "stdout",
     "output_type": "stream",
     "text": [
      "에포크별 학습 loss : 0.162 / 학습 정확도 : 95.19%\n",
      "에포크별 검증 loss : 2.337 / 검증 정확도 : 58.27%\n"
     ]
    },
    {
     "data": {
      "application/vnd.jupyter.widget-view+json": {
       "model_id": "e9f57febbad6468cab1aeb02419f8248",
       "version_major": 2,
       "version_minor": 0
      },
      "text/plain": [
       "78 별 학습 진행중:   0%|          | 0/43 [00:00<?, ?it/s]"
      ]
     },
     "metadata": {},
     "output_type": "display_data"
    },
    {
     "name": "stdout",
     "output_type": "stream",
     "text": [
      "에포크별 학습 loss : 0.153 / 학습 정확도 : 94.32%\n",
      "에포크별 검증 loss : 1.428 / 검증 정확도 : 57.31%\n"
     ]
    },
    {
     "data": {
      "application/vnd.jupyter.widget-view+json": {
       "model_id": "e8089a0ddd794f7fb876aa87ed9ffc77",
       "version_major": 2,
       "version_minor": 0
      },
      "text/plain": [
       "79 별 학습 진행중:   0%|          | 0/43 [00:00<?, ?it/s]"
      ]
     },
     "metadata": {},
     "output_type": "display_data"
    },
    {
     "name": "stdout",
     "output_type": "stream",
     "text": [
      "에포크별 학습 loss : 0.116 / 학습 정확도 : 95.96%\n",
      "에포크별 검증 loss : 1.650 / 검증 정확도 : 54.04%\n"
     ]
    },
    {
     "data": {
      "application/vnd.jupyter.widget-view+json": {
       "model_id": "257e6f9759b746a7bf8e6674295b57e7",
       "version_major": 2,
       "version_minor": 0
      },
      "text/plain": [
       "80 별 학습 진행중:   0%|          | 0/43 [00:00<?, ?it/s]"
      ]
     },
     "metadata": {},
     "output_type": "display_data"
    },
    {
     "name": "stdout",
     "output_type": "stream",
     "text": [
      "에포크별 학습 loss : 0.152 / 학습 정확도 : 94.64%\n",
      "에포크별 검증 loss : 1.941 / 검증 정확도 : 64.04%\n"
     ]
    },
    {
     "data": {
      "application/vnd.jupyter.widget-view+json": {
       "model_id": "59211e74cbe7469c87d5f01c11e7796a",
       "version_major": 2,
       "version_minor": 0
      },
      "text/plain": [
       "81 별 학습 진행중:   0%|          | 0/43 [00:00<?, ?it/s]"
      ]
     },
     "metadata": {},
     "output_type": "display_data"
    },
    {
     "name": "stdout",
     "output_type": "stream",
     "text": [
      "에포크별 학습 loss : 0.115 / 학습 정확도 : 95.89%\n",
      "에포크별 검증 loss : 1.365 / 검증 정확도 : 60.38%\n"
     ]
    },
    {
     "data": {
      "application/vnd.jupyter.widget-view+json": {
       "model_id": "2238a501da2e4c83a58ee09e27f3ad13",
       "version_major": 2,
       "version_minor": 0
      },
      "text/plain": [
       "82 별 학습 진행중:   0%|          | 0/43 [00:00<?, ?it/s]"
      ]
     },
     "metadata": {},
     "output_type": "display_data"
    },
    {
     "name": "stdout",
     "output_type": "stream",
     "text": [
      "에포크별 학습 loss : 0.048 / 학습 정확도 : 98.57%\n",
      "에포크별 검증 loss : 1.674 / 검증 정확도 : 54.62%\n"
     ]
    },
    {
     "data": {
      "application/vnd.jupyter.widget-view+json": {
       "model_id": "59016351ae2f4dd9b189a7a485b38209",
       "version_major": 2,
       "version_minor": 0
      },
      "text/plain": [
       "83 별 학습 진행중:   0%|          | 0/43 [00:00<?, ?it/s]"
      ]
     },
     "metadata": {},
     "output_type": "display_data"
    },
    {
     "name": "stdout",
     "output_type": "stream",
     "text": [
      "에포크별 학습 loss : 0.093 / 학습 정확도 : 97.69%\n",
      "에포크별 검증 loss : 1.710 / 검증 정확도 : 54.62%\n"
     ]
    },
    {
     "data": {
      "application/vnd.jupyter.widget-view+json": {
       "model_id": "cdec3a3c2f66486181f878b1158fc384",
       "version_major": 2,
       "version_minor": 0
      },
      "text/plain": [
       "84 별 학습 진행중:   0%|          | 0/43 [00:00<?, ?it/s]"
      ]
     },
     "metadata": {},
     "output_type": "display_data"
    },
    {
     "name": "stdout",
     "output_type": "stream",
     "text": [
      "에포크별 학습 loss : 0.066 / 학습 정확도 : 99.13%\n",
      "에포크별 검증 loss : 1.098 / 검증 정확도 : 61.54%\n"
     ]
    },
    {
     "data": {
      "application/vnd.jupyter.widget-view+json": {
       "model_id": "c7fbe64ff8754ea6bae82a01943b672d",
       "version_major": 2,
       "version_minor": 0
      },
      "text/plain": [
       "85 별 학습 진행중:   0%|          | 0/43 [00:00<?, ?it/s]"
      ]
     },
     "metadata": {},
     "output_type": "display_data"
    },
    {
     "name": "stdout",
     "output_type": "stream",
     "text": [
      "에포크별 학습 loss : 0.023 / 학습 정확도 : 99.75%\n",
      "에포크별 검증 loss : 1.233 / 검증 정확도 : 55.38%\n"
     ]
    },
    {
     "data": {
      "application/vnd.jupyter.widget-view+json": {
       "model_id": "810c4aec5eac4511af6e2584c4a79361",
       "version_major": 2,
       "version_minor": 0
      },
      "text/plain": [
       "86 별 학습 진행중:   0%|          | 0/43 [00:00<?, ?it/s]"
      ]
     },
     "metadata": {},
     "output_type": "display_data"
    },
    {
     "name": "stdout",
     "output_type": "stream",
     "text": [
      "에포크별 학습 loss : 0.006 / 학습 정확도 : 100.00%\n",
      "에포크별 검증 loss : 1.404 / 검증 정확도 : 63.46%\n"
     ]
    },
    {
     "data": {
      "application/vnd.jupyter.widget-view+json": {
       "model_id": "fb06cfece7194f11b8a55153d33be9dd",
       "version_major": 2,
       "version_minor": 0
      },
      "text/plain": [
       "87 별 학습 진행중:   0%|          | 0/43 [00:00<?, ?it/s]"
      ]
     },
     "metadata": {},
     "output_type": "display_data"
    },
    {
     "name": "stdout",
     "output_type": "stream",
     "text": [
      "에포크별 학습 loss : 0.014 / 학습 정확도 : 99.44%\n",
      "에포크별 검증 loss : 1.295 / 검증 정확도 : 71.54%\n"
     ]
    },
    {
     "data": {
      "application/vnd.jupyter.widget-view+json": {
       "model_id": "708ea69f62b443a8ae3f2990594b5db3",
       "version_major": 2,
       "version_minor": 0
      },
      "text/plain": [
       "88 별 학습 진행중:   0%|          | 0/43 [00:00<?, ?it/s]"
      ]
     },
     "metadata": {},
     "output_type": "display_data"
    },
    {
     "name": "stdout",
     "output_type": "stream",
     "text": [
      "에포크별 학습 loss : 0.032 / 학습 정확도 : 98.81%\n",
      "에포크별 검증 loss : 1.449 / 검증 정확도 : 54.62%\n"
     ]
    },
    {
     "data": {
      "application/vnd.jupyter.widget-view+json": {
       "model_id": "dfed036f2c8844a4a06ad5fdd589a340",
       "version_major": 2,
       "version_minor": 0
      },
      "text/plain": [
       "89 별 학습 진행중:   0%|          | 0/43 [00:00<?, ?it/s]"
      ]
     },
     "metadata": {},
     "output_type": "display_data"
    },
    {
     "name": "stdout",
     "output_type": "stream",
     "text": [
      "에포크별 학습 loss : 0.043 / 학습 정확도 : 99.13%\n",
      "에포크별 검증 loss : 1.393 / 검증 정확도 : 63.46%\n"
     ]
    },
    {
     "data": {
      "application/vnd.jupyter.widget-view+json": {
       "model_id": "b42ded37b6ca4b2f895a9bdb2ac65056",
       "version_major": 2,
       "version_minor": 0
      },
      "text/plain": [
       "90 별 학습 진행중:   0%|          | 0/43 [00:00<?, ?it/s]"
      ]
     },
     "metadata": {},
     "output_type": "display_data"
    },
    {
     "name": "stdout",
     "output_type": "stream",
     "text": [
      "에포크별 학습 loss : 0.036 / 학습 정확도 : 98.43%\n",
      "에포크별 검증 loss : 1.426 / 검증 정확도 : 67.88%\n"
     ]
    },
    {
     "data": {
      "application/vnd.jupyter.widget-view+json": {
       "model_id": "762d7d9ab4464fb1ac8fa51cc633920c",
       "version_major": 2,
       "version_minor": 0
      },
      "text/plain": [
       "91 별 학습 진행중:   0%|          | 0/43 [00:00<?, ?it/s]"
      ]
     },
     "metadata": {},
     "output_type": "display_data"
    },
    {
     "name": "stdout",
     "output_type": "stream",
     "text": [
      "에포크별 학습 loss : 0.107 / 학습 정확도 : 97.00%\n",
      "에포크별 검증 loss : 2.470 / 검증 정확도 : 56.54%\n"
     ]
    },
    {
     "data": {
      "application/vnd.jupyter.widget-view+json": {
       "model_id": "6352e572c67248aea7a8a97c1da5ac9d",
       "version_major": 2,
       "version_minor": 0
      },
      "text/plain": [
       "92 별 학습 진행중:   0%|          | 0/43 [00:00<?, ?it/s]"
      ]
     },
     "metadata": {},
     "output_type": "display_data"
    },
    {
     "name": "stdout",
     "output_type": "stream",
     "text": [
      "에포크별 학습 loss : 0.070 / 학습 정확도 : 98.19%\n",
      "에포크별 검증 loss : 2.029 / 검증 정확도 : 53.46%\n"
     ]
    },
    {
     "data": {
      "application/vnd.jupyter.widget-view+json": {
       "model_id": "f698d6ad52ef4baeb9d9a173d9e952a9",
       "version_major": 2,
       "version_minor": 0
      },
      "text/plain": [
       "93 별 학습 진행중:   0%|          | 0/43 [00:00<?, ?it/s]"
      ]
     },
     "metadata": {},
     "output_type": "display_data"
    },
    {
     "name": "stdout",
     "output_type": "stream",
     "text": [
      "에포크별 학습 loss : 0.085 / 학습 정확도 : 97.56%\n",
      "에포크별 검증 loss : 2.108 / 검증 정확도 : 57.88%\n"
     ]
    },
    {
     "data": {
      "application/vnd.jupyter.widget-view+json": {
       "model_id": "011ee34a6857450ca7674aa4179d8cfb",
       "version_major": 2,
       "version_minor": 0
      },
      "text/plain": [
       "94 별 학습 진행중:   0%|          | 0/43 [00:00<?, ?it/s]"
      ]
     },
     "metadata": {},
     "output_type": "display_data"
    },
    {
     "name": "stdout",
     "output_type": "stream",
     "text": [
      "에포크별 학습 loss : 0.219 / 학습 정확도 : 93.57%\n",
      "에포크별 검증 loss : 1.890 / 검증 정확도 : 43.46%\n"
     ]
    },
    {
     "data": {
      "application/vnd.jupyter.widget-view+json": {
       "model_id": "26a2d538ee324080afed3d14b00c2fad",
       "version_major": 2,
       "version_minor": 0
      },
      "text/plain": [
       "95 별 학습 진행중:   0%|          | 0/43 [00:00<?, ?it/s]"
      ]
     },
     "metadata": {},
     "output_type": "display_data"
    },
    {
     "name": "stdout",
     "output_type": "stream",
     "text": [
      "에포크별 학습 loss : 0.097 / 학습 정확도 : 96.12%\n",
      "에포크별 검증 loss : 1.663 / 검증 정확도 : 53.46%\n"
     ]
    },
    {
     "data": {
      "application/vnd.jupyter.widget-view+json": {
       "model_id": "52053b1aa02f4ab8b205d8f4791db6d9",
       "version_major": 2,
       "version_minor": 0
      },
      "text/plain": [
       "96 별 학습 진행중:   0%|          | 0/43 [00:00<?, ?it/s]"
      ]
     },
     "metadata": {},
     "output_type": "display_data"
    },
    {
     "name": "stdout",
     "output_type": "stream",
     "text": [
      "에포크별 학습 loss : 0.048 / 학습 정확도 : 98.50%\n",
      "에포크별 검증 loss : 1.913 / 검증 정확도 : 58.46%\n"
     ]
    },
    {
     "data": {
      "application/vnd.jupyter.widget-view+json": {
       "model_id": "209584ee1b254b449c8fd4a7ab540edf",
       "version_major": 2,
       "version_minor": 0
      },
      "text/plain": [
       "97 별 학습 진행중:   0%|          | 0/43 [00:00<?, ?it/s]"
      ]
     },
     "metadata": {},
     "output_type": "display_data"
    },
    {
     "name": "stdout",
     "output_type": "stream",
     "text": [
      "에포크별 학습 loss : 0.042 / 학습 정확도 : 98.57%\n",
      "에포크별 검증 loss : 1.684 / 검증 정확도 : 64.81%\n"
     ]
    },
    {
     "data": {
      "application/vnd.jupyter.widget-view+json": {
       "model_id": "f8a39776d27349b7928e9176b9823b0f",
       "version_major": 2,
       "version_minor": 0
      },
      "text/plain": [
       "98 별 학습 진행중:   0%|          | 0/43 [00:00<?, ?it/s]"
      ]
     },
     "metadata": {},
     "output_type": "display_data"
    },
    {
     "name": "stdout",
     "output_type": "stream",
     "text": [
      "에포크별 학습 loss : 0.008 / 학습 정확도 : 100.00%\n",
      "에포크별 검증 loss : 1.710 / 검증 정확도 : 61.54%\n"
     ]
    },
    {
     "data": {
      "application/vnd.jupyter.widget-view+json": {
       "model_id": "e5b3da80924d450f9f1a0373a6ecf5ea",
       "version_major": 2,
       "version_minor": 0
      },
      "text/plain": [
       "99 별 학습 진행중:   0%|          | 0/43 [00:00<?, ?it/s]"
      ]
     },
     "metadata": {},
     "output_type": "display_data"
    },
    {
     "name": "stdout",
     "output_type": "stream",
     "text": [
      "에포크별 학습 loss : 0.008 / 학습 정확도 : 99.75%\n",
      "에포크별 검증 loss : 1.682 / 검증 정확도 : 60.96%\n"
     ]
    }
   ],
   "source": [
    "device = torch.device('cuda')\n",
    "history = train_and_validate(model_ResNet, train_loader, val_loader, criterion, epochs=100,device=device)"
   ]
  },
  {
   "cell_type": "code",
   "execution_count": 62,
   "metadata": {},
   "outputs": [
    {
     "data": {
      "image/png": "[encoded data removed]",
      "text/plain": [
       "<Figure size 640x480 with 1 Axes>"
      ]
     },
     "metadata": {},
     "output_type": "display_data"
    }
   ],
   "source": [
    "import matplotlib.pyplot as plt\n",
    "\n",
    "# train_and_validate 함수로부터 손실 기록 받기\n",
    "train_losses, val_losses = history[:2]\n",
    "\n",
    "# 에포크 번호를 기준으로 그래프를 그립니다.\n",
    "epochs = range(1, len(train_losses) + 1)\n",
    "\n",
    "# 학습 및 검증 손실 그래프 그리기\n",
    "plt.plot(epochs, train_losses, 'bo-', label='Training loss')\n",
    "plt.plot(epochs, val_losses, 'ro-', label='Validation loss')\n",
    "plt.title('Training and Validation loss')\n",
    "plt.xlabel('Epochs')\n",
    "plt.ylabel('Loss')\n",
    "plt.legend()\n",
    "\n",
    "plt.show()"
   ]
  },
  {
   "cell_type": "code",
   "execution_count": 63,
   "metadata": {},
   "outputs": [
    {
     "data": {
      "image/png": "[encoded data removed]",
      "text/plain": [
       "<Figure size 640x480 with 1 Axes>"
      ]
     },
     "metadata": {},
     "output_type": "display_data"
    }
   ],
   "source": [
    "# train_and_validate 함수로부터 손실 기록 받기\n",
    "train_accies, val_accies = history[2:]\n",
    "\n",
    "# 에포크 번호를 기준으로 그래프를 그립니다.\n",
    "epochs = range(1, len(train_losses) + 1)\n",
    "\n",
    "# 학습 및 검증 손실 그래프 그리기\n",
    "plt.plot(epochs, train_accies, 'bo-', label='Training acc')\n",
    "plt.plot(epochs, val_accies, 'ro-', label='Validation acc')\n",
    "plt.title('Training and Validation acc')\n",
    "plt.xlabel('Epochs')\n",
    "plt.ylabel('Loss')\n",
    "plt.legend()\n",
    "\n",
    "plt.show()"
   ]
  },
  {
   "cell_type": "code",
   "execution_count": 64,
   "metadata": {},
   "outputs": [],
   "source": [
    "def evaluate(model, loader, device):\n",
    "    model.eval()\n",
    "    accuracy_metric = torchmetrics.Accuracy(task='multiclass', num_classes=4, average='macro').to(device)\n",
    "    with torch.no_grad():\n",
    "        for data in tqdm(loader, desc=f\"최종평가중\"):\n",
    "            inputs, labels = data\n",
    "            inputs, labels = inputs.to(device), labels.to(device)\n",
    "\n",
    "            outputs = model(inputs)\n",
    "            # 정확도 업데이트\n",
    "            accuracy_metric.update(outputs, labels)\n",
    "    accuracy = accuracy_metric.compute()  # 정확도 계산\n",
    "    print(f'테스트 이미지 정확도 계산: {accuracy.item() * 100:.2f}%')\n",
    "    return accuracy.item()\n"
   ]
  },
  {
   "cell_type": "code",
   "execution_count": 65,
   "metadata": {},
   "outputs": [
    {
     "data": {
      "application/vnd.jupyter.widget-view+json": {
       "model_id": "33318a9469b84ee2ac1dbdf17aa68a53",
       "version_major": 2,
       "version_minor": 0
      },
      "text/plain": [
       "최종평가중:   0%|          | 0/6 [00:00<?, ?it/s]"
      ]
     },
     "metadata": {},
     "output_type": "display_data"
    },
    {
     "name": "stdout",
     "output_type": "stream",
     "text": [
      "테스트 이미지 정확도 계산: 64.81%\n"
     ]
    },
    {
     "data": {
      "text/plain": [
       "0.6480768918991089"
      ]
     },
     "execution_count": 65,
     "metadata": {},
     "output_type": "execute_result"
    }
   ],
   "source": [
    "evaluate(model_ResNet, test_loader, device)"
   ]
  },
  {
   "cell_type": "markdown",
   "metadata": {},
   "source": [
    "\n",
    "1.  batch_size = 8 : 테스트 이미지 정확도 계산: 64.81%"
   ]
  },
  {
   "cell_type": "code",
   "execution_count": null,
   "metadata": {},
   "outputs": [],
   "source": [
    "\n",
    "#꺠진 파일 찾기\n",
    "import os\n",
    "from PIL import Image\n",
    "\n",
    "#전체 경로를 사용하여 경로 설정\n",
    "checkdir = r'C:\\project\\python_basic\\6_딥러닝\\data\\resnet_data\\카리나'  # Windows의 경우 전체 경로 사용\n",
    "\n",
    "formats = [\".jpg\", \".jpeg\", \".png\", \".webp\"]\n",
    "\n",
    "if not os.path.exists(checkdir):\n",
    "    print(f\"The directory {checkdir} does not exist.\")\n",
    "else:\n",
    "    for root, dirs, files in os.walk(checkdir):\n",
    "        for file in files:\n",
    "            if file.lower().endswith(tuple(formats)):\n",
    "                file_path = os.path.join(root, file)\n",
    "                try:\n",
    "                    with Image.open(file_path) as img:\n",
    "                        img.load()\n",
    "                except Exception as e:\n",
    "                    print(f\"An exception is raised with file: {file_path} - {e}\")\n"
   ]
  }
 ],
 "metadata": {
  "kernelspec": {
   "display_name": "gumi_env310",
   "language": "python",
   "name": "python3"
  },
  "language_info": {
   "codemirror_mode": {
    "name": "ipython",
    "version": 3
   },
   "file_extension": ".py",
   "mimetype": "text/x-python",
   "name": "python",
   "nbconvert_exporter": "python",
   "pygments_lexer": "ipython3",
   "version": "3.10.14"
  }
 },
 "nbformat": 4,
 "nbformat_minor": 2
}
