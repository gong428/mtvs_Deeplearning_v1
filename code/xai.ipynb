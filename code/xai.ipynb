{
 "cells": [
  {
   "cell_type": "code",
   "execution_count": null,
   "metadata": {},
   "outputs": [],
   "source": [
    "import torch\n",
    "import torch.nn as nn\n",
    "import torchvision.transforms as transforms\n",
    "import torchvision.models as models\n",
    "from torchvision.datasets import ImageFolder\n",
    "from torch.utils.data import DataLoader, Subset\n",
    "import torch.nn.functional as F\n",
    "import torchvision\n",
    "from torchvision.datasets.folder import default_loader, IMG_EXTENSIONS\n",
    "\n",
    "import numpy as np\n",
    "import matplotlib.pyplot as plt\n",
    "import koreanize_matplotlib\n",
    "import random\n",
    "import os"
   ]
  },
  {
   "cell_type": "code",
   "execution_count": null,
   "metadata": {},
   "outputs": [],
   "source": [
    "### Xai 사용해보기\n",
    "from pytorch_grad_cam import GradCAM, HiResCAM, ScoreCAM, GradCAMPlusPlus, AblationCAM, XGradCAM,EigenCAM, FullGrad #<- 다 찾아보기\n",
    "from pytorch_grad_cam.utils.image import show_cam_on_image"
   ]
  },
  {
   "cell_type": "code",
   "execution_count": null,
   "metadata": {},
   "outputs": [],
   "source": [
    "model_grad_cam = transfer_model_best\n",
    "model_grad_cam.to(device)\n",
    "model_grad_cam.eval()"
   ]
  },
  {
   "cell_type": "code",
   "execution_count": null,
   "metadata": {},
   "outputs": [],
   "source": [
    "len(model_grad_cam.layer4)"
   ]
  },
  {
   "cell_type": "code",
   "execution_count": null,
   "metadata": {},
   "outputs": [],
   "source": [
    "# tensor 이미지를 numpy 이미지로 변환하는 함수\n",
    "def tensor_to_img(img_tensor):\n",
    "    img = img_tensor.cpu().detach().numpy().transpose(1,2,0)\n",
    "    mean=np.array([0.485, 0.456, 0.406])\n",
    "    std=np.array([0.229, 0.224, 0.225])\n",
    "    img = img *std + mean\n",
    "    img = np.clip(img,0,1)\n",
    "    return img"
   ]
  },
  {
   "cell_type": "code",
   "execution_count": null,
   "metadata": {},
   "outputs": [],
   "source": [
    "target_layers = [model_grad_cam.layer4[-1]]# 마지막 레이어를 타겟으로 ?그러면 grad_cam은 정답값으로 레이어를 사용하는 건가?\n",
    "\n",
    "cam = GradCAM(model = model_grad_cam,target_layers=target_layers)\n",
    "\n",
    "for inputs, labels in test_loader:\n",
    "    inputs = inputs.to(device)\n",
    "\n",
    "    # 시각화 해보기\n",
    "    plt.figure(figsize=(12,3))\n",
    "    for idx,image in enumerate(inputs, 1):\n",
    "        input_image = image.unsqueeze(0)\n",
    "        grayscal_cam = cam(input_tensor=input_image, targets=None)[0]\n",
    "        original_image = tensor_to_img(image)\n",
    "        cam_image = show_cam_on_image(original_image,grayscal_cam,use_rgb=True)\n",
    "\n",
    "\n",
    "        plt.subplot(1,len(inputs),idx)\n",
    "        plt.imshow(cam_image)\n",
    "        plt.axis()\n"
   ]
  },
  {
   "cell_type": "code",
   "execution_count": null,
   "metadata": {},
   "outputs": [],
   "source": [
    "target_layers = [model_grad_cam.layer4[-1]]# 마지막 레이어를 타겟으로 ?그러면 grad_cam은 정답값으로 레이어를 사용하는 건가?\n",
    "\n",
    "cam = GradCAMPlusPlus(model = model_grad_cam,target_layers=target_layers)\n",
    "\n",
    "for inputs, labels in test_loader:\n",
    "    inputs = inputs.to(device)\n",
    "\n",
    "    # 시각화 해보기\n",
    "    plt.figure(figsize=(12,3))\n",
    "    for idx,image in enumerate(inputs, 1):\n",
    "        input_image = image.unsqueeze(0)\n",
    "        grayscal_cam = cam(input_tensor=input_image, targets=None)[0]\n",
    "        original_image = tensor_to_img(image)\n",
    "        cam_image = show_cam_on_image(original_image,grayscal_cam,use_rgb=True)\n",
    "\n",
    "\n",
    "        plt.subplot(1,len(inputs),idx)\n",
    "        plt.imshow(cam_image)\n",
    "        plt.axis()\n"
   ]
  }
 ],
 "metadata": {
  "language_info": {
   "name": "python"
  }
 },
 "nbformat": 4,
 "nbformat_minor": 2
}
