{
 "cells": [
  {
   "cell_type": "code",
   "execution_count": 5,
   "metadata": {},
   "outputs": [
    {
     "name": "stdout",
     "output_type": "stream",
     "text": [
      "이미지 정보:\n",
      " 이미지 식별자  이미지 높이                   이미지 파일명  이미지 너비\n",
      " 1325171     800 fjfcjlwsefkj_3 (1914).JPG     800\n",
      "\n",
      "파일 생성일자: 2020-11-26 18:51:06\n",
      "\n",
      "렉트 좌표:\n",
      "아우터 하의 원피스                                                 상의\n",
      " {} {}  {} {'X좌표': 240.203, 'Y좌표': 6.5, '가로': 459, '세로': 527}\n",
      "\n",
      "폴리곤 좌표:\n",
      "아우터 하의 원피스                                                                                                                                                                                                                                                                                                                                                                                                                                                                                                                                                                                                                                                                                                                                                                                                                                                                                                                                                                                                                                                                                                                                                                                                                                                                                                                                                                                                                                                                                                                     상의\n",
      " {} {}  {} {'Y좌표44': 164.0, 'Y좌표43': 113.0, 'Y좌표40': 26.0, 'Y좌표42': 66.0, 'Y좌표41': 42.0, 'X좌표39': 572.703, 'X좌표38': 644.703, 'X좌표37': 669.703, 'X좌표36': 696.703, 'X좌표35': 699.703, 'X좌표34': 695.703, 'X좌표33': 679.703, 'X좌표32': 669.703, 'X좌표31': 651.703, 'X좌표30': 645.703, 'Y좌표37': 54.0, 'Y좌표36': 78.0, 'X좌표8': 445.703, 'Y좌표39': 7.0, 'X좌표9': 395.703, 'Y좌표38': 33.0, 'Y좌표33': 269.0, 'Y좌표32': 358.0, 'Y좌표35': 146.0, 'Y좌표34': 189.0, 'Y좌표31': 406.0, 'Y좌표30': 430.0, 'X좌표44': 508.703, 'X좌표2': 480.703, 'X좌표43': 551.703, 'X좌표3': 444.703, 'X좌표42': 585.703, 'X좌표41': 598.703, 'X좌표1': 505.703, 'X좌표40': 583.703, 'X좌표6': 474.703, 'X좌표7': 471.703, 'X좌표4': 442.703, 'X좌표5': 452.703, 'Y좌표26': 453.0, 'Y좌표25': 396.0, 'Y좌표28': 512.0, 'Y좌표9': 49.0, 'Y좌표27': 491.0, 'Y좌표22': 391.0, 'Y좌표21': 390.0, 'Y좌표24': 404.0, 'Y좌표23': 409.0, 'Y좌표20': 422.0, 'X좌표19': 342.703, 'X좌표18': 346.703, 'X좌표17': 340.703, 'X좌표16': 315.703, 'X좌표15': 278.703, 'X좌표14': 240.703, 'X좌표13': 273.703, 'X좌표12': 304.703, 'X좌표11': 327.703, 'Y좌표4': 65.0, 'X좌표10': 360.703, 'Y좌표3': 79.0, 'Y좌표2': 121.0, 'Y좌표1': 160.0, 'Y좌표8': 23.0, 'Y좌표7': 17.0, 'Y좌표29': 482.0, 'Y좌표6': 28.0, 'Y좌표5': 46.0, 'Y좌표15': 523.0, 'Y좌표14': 506.0, 'Y좌표17': 522.0, 'Y좌표16': 534.0, 'Y좌표11': 108.0, 'Y좌표10': 66.0, 'Y좌표13': 457.0, 'Y좌표12': 238.0, 'X좌표29': 643.703, 'X좌표28': 638.703, 'X좌표27': 607.703, 'X좌표26': 591.703, 'X좌표25': 583.703, 'X좌표24': 548.703, 'X좌표23': 492.703, 'X좌표22': 425.703, 'X좌표21': 371.703, 'X좌표20': 355.703, 'Y좌표19': 472.0, 'Y좌표18': 496.0}\n",
      "\n",
      "아우터 정보:\n",
      "아우터 정보가 없습니다.\n",
      "\n",
      "상의 정보:\n",
      "상의 정보가 없습니다.\n",
      "\n",
      "하의 정보:\n",
      "하의 정보가 없습니다.\n"
     ]
    }
   ],
   "source": [
    "import json\n",
    "import pandas as pd\n",
    "\n",
    "# JSON 파일을 읽어들이기\n",
    "file_path = '../json/1325171.json'\n",
    "with open(file_path, 'r', encoding='utf-8') as file:\n",
    "    data = json.load(file)\n",
    "\n",
    "# 데이터셋에서 필요한 정보 추출\n",
    "image_info = data.get(\"이미지 정보\", {})\n",
    "dataset_info = data.get(\"데이터셋 정보\", {})\n",
    "labeling_info = data.get(\"라벨링\", {})\n",
    "\n",
    "# 이미지 정보 데이터프레임\n",
    "image_df = pd.DataFrame([image_info])\n",
    "\n",
    "# 데이터셋 정보 추출\n",
    "file_creation_date = dataset_info.get(\"파일 생성일자\")\n",
    "detailed_description = dataset_info.get(\"데이터셋 상세설명\", {})\n",
    "rect_coords = detailed_description.get(\"렉트좌표\", {})\n",
    "polygon_coords = detailed_description.get(\"폴리곤좌표\", {})\n",
    "\n",
    "# 렉트 좌표와 폴리곤 좌표 데이터프레임\n",
    "rect_coords_df = pd.DataFrame(rect_coords)\n",
    "polygon_coords_df = pd.DataFrame(polygon_coords)\n",
    "\n",
    "# 라벨링 정보 데이터프레임\n",
    "outer_info = labeling_info.get(\"아우터\", [])\n",
    "top_info = labeling_info.get(\"상의\", [])\n",
    "bottom_info = labeling_info.get(\"하의\", [])\n",
    "\n",
    "# 각 라벨링 정보를 데이터프레임으로 변환\n",
    "outer_df = pd.DataFrame(outer_info)\n",
    "top_df = pd.DataFrame(top_info)\n",
    "bottom_df = pd.DataFrame(bottom_info)\n",
    "\n",
    "# 결과 출력\n",
    "print(\"이미지 정보:\")\n",
    "print(image_df.to_string(index=False))\n",
    "print(\"\\n파일 생성일자:\", file_creation_date)\n",
    "print(\"\\n렉트 좌표:\")\n",
    "print(rect_coords_df.to_string(index=False))\n",
    "print(\"\\n폴리곤 좌표:\")\n",
    "print(polygon_coords_df.to_string(index=False))\n",
    "print(\"\\n아우터 정보:\")\n",
    "print(outer_df.to_string(index=False) if not outer_df.empty else \"아우터 정보가 없습니다.\")\n",
    "print(\"\\n상의 정보:\")\n",
    "print(top_df.to_string(index=False) if not top_df.empty else \"상의 정보가 없습니다.\")\n",
    "print(\"\\n하의 정보:\")\n",
    "print(bottom_df.to_string(index=False) if not bottom_df.empty else \"하의 정보가 없습니다.\")\n"
   ]
  },
  {
   "cell_type": "code",
   "execution_count": 15,
   "metadata": {},
   "outputs": [
    {
     "name": "stderr",
     "output_type": "stream",
     "text": [
      "100%|██████████| 28452/28452 [11:06<00:00, 42.66it/s]  \n"
     ]
    }
   ],
   "source": [
    "import json\n",
    "import os\n",
    "import shutil\n",
    "from tqdm import tqdm\n",
    "\n",
    "def find_matching_data(rect_coords):\n",
    "    \"\"\"조건에 맞는 데이터를 찾는 함수\"\"\"\n",
    "    has_dress_data = bool(rect_coords.get(\"원피스\") and rect_coords.get(\"원피스\") != [{}])\n",
    "    has_top_and_bottom_data = bool(rect_coords.get(\"상의\") and rect_coords.get(\"상의\") != [{}] and rect_coords.get(\"하의\") and rect_coords.get(\"하의\") != [{}])\n",
    "    return has_dress_data or has_top_and_bottom_data\n",
    "\n",
    "def process_json_files(input_folder, output_folder):\n",
    "    \"\"\"폴더 내의 JSON 파일을 순차적으로 처리하고 조건에 맞는 데이터만 저장\"\"\"\n",
    "    # 출력 폴더가 없으면 생성\n",
    "    if not os.path.exists(output_folder):\n",
    "        os.makedirs(output_folder)\n",
    "\n",
    "    # 폴더 내의 모든 JSON 파일 처리\n",
    "    for filename in tqdm(os.listdir(input_folder)):\n",
    "        if filename.endswith(\".json\"):\n",
    "            file_path = os.path.join(input_folder, filename)\n",
    "            with open(file_path, 'r', encoding='utf-8') as file:\n",
    "                data = json.load(file)\n",
    "\n",
    "            # 데이터셋 정보 추출\n",
    "            dataset_info = data.get(\"데이터셋 정보\", {})\n",
    "            detailed_description = dataset_info.get(\"데이터셋 상세설명\", {})\n",
    "            rect_coords = detailed_description.get(\"렉트좌표\", {})\n",
    "\n",
    "            # 조건에 맞는 데이터 찾기\n",
    "            if find_matching_data(rect_coords):\n",
    "                # 조건에 맞는 데이터를 새로운 폴더에 저장\n",
    "                output_file_path = os.path.join(output_folder, filename)\n",
    "                with open(output_file_path, 'w', encoding='utf-8') as output_file:\n",
    "                    json.dump(data, output_file, ensure_ascii=False, indent=4)\n",
    "\n",
    "# 입력 폴더와 출력 폴더 설정\n",
    "input_folder = '../json/train/매니시'\n",
    "output_folder = '../matching_json/train/매니시'\n",
    "\n",
    "# JSON 파일 처리\n",
    "process_json_files(input_folder, output_folder)\n"
   ]
  },
  {
   "cell_type": "code",
   "execution_count": null,
   "metadata": {},
   "outputs": [],
   "source": []
  }
 ],
 "metadata": {
  "kernelspec": {
   "display_name": "gumi_env310",
   "language": "python",
   "name": "python3"
  },
  "language_info": {
   "codemirror_mode": {
    "name": "ipython",
    "version": 3
   },
   "file_extension": ".py",
   "mimetype": "text/x-python",
   "name": "python",
   "nbconvert_exporter": "python",
   "pygments_lexer": "ipython3",
   "version": "3.10.14"
  }
 },
 "nbformat": 4,
 "nbformat_minor": 2
}
