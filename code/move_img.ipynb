{
 "cells": [
  {
   "cell_type": "code",
   "execution_count": 1,
   "metadata": {},
   "outputs": [
    {
     "name": "stderr",
     "output_type": "stream",
     "text": [
      "Moving files: 100%|██████████| 348935/348935 [05:52<00:00, 989.21file/s] \n"
     ]
    }
   ],
   "source": [
    "import os\n",
    "import shutil\n",
    "from tqdm import tqdm\n",
    "\n",
    "# 이미지 파일이 저장된 상위 폴더 경로\n",
    "root_dir = '../cut_datas'\n",
    "\n",
    "# 파일 목록 가져오기\n",
    "file_paths = []\n",
    "for subdir, dirs, files in os.walk(root_dir):\n",
    "    for file in files:\n",
    "        file_path = os.path.join(subdir, file)\n",
    "        if os.path.isfile(file_path) and file_path != os.path.join(root_dir, file):\n",
    "            file_paths.append(file_path)\n",
    "\n",
    "# 파일 이동 및 진행 상황 표시\n",
    "for file_path in tqdm(file_paths, desc=\"Moving files\", unit=\"file\"):\n",
    "    try:\n",
    "        shutil.move(file_path, root_dir)\n",
    "    except Exception as e:\n",
    "        print(f\"Failed to move {file_path}: {e}\")\n"
   ]
  },
  {
   "cell_type": "code",
   "execution_count": null,
   "metadata": {},
   "outputs": [],
   "source": []
  }
 ],
 "metadata": {
  "kernelspec": {
   "display_name": "gumi_env310",
   "language": "python",
   "name": "python3"
  },
  "language_info": {
   "codemirror_mode": {
    "name": "ipython",
    "version": 3
   },
   "file_extension": ".py",
   "mimetype": "text/x-python",
   "name": "python",
   "nbconvert_exporter": "python",
   "pygments_lexer": "ipython3",
   "version": "3.10.14"
  }
 },
 "nbformat": 4,
 "nbformat_minor": 2
}
