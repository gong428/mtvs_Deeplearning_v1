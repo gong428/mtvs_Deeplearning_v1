{
 "cells": [
  {
   "cell_type": "code",
   "execution_count": 21,
   "metadata": {},
   "outputs": [
    {
     "name": "stderr",
     "output_type": "stream",
     "text": [
      "100%|██████████| 332/332 [00:00<00:00, 597.19it/s]"
     ]
    },
    {
     "name": "stdout",
     "output_type": "stream",
     "text": [
      "복사된 이미지 파일 수: 332\n"
     ]
    },
    {
     "name": "stderr",
     "output_type": "stream",
     "text": [
      "\n"
     ]
    }
   ],
   "source": [
    "import json\n",
    "import os\n",
    "import shutil\n",
    "from tqdm import tqdm\n",
    "\n",
    "def process_json_files_and_copy_images(json_folder, image_source_folder, image_dest_folder):\n",
    "    \"\"\"JSON 파일을 처리하고 이미지를 복사하는 함수\"\"\"\n",
    "    # 출력 폴더가 없으면 생성\n",
    "    if not os.path.exists(image_dest_folder):\n",
    "        os.makedirs(image_dest_folder)\n",
    "    \n",
    "    copied_image_count = 0   # 복사된 이미지 파일 수를 저장할 변수\n",
    "\n",
    "    # JSON 폴더 내의 모든 JSON 파일 처리\n",
    "    for filename in tqdm(os.listdir(json_folder)):\n",
    "        if filename.endswith(\".json\"):\n",
    "            json_file_path = os.path.join(json_folder, filename)\n",
    "            \n",
    "            try:\n",
    "                # JSON 파일 읽기\n",
    "                with open(json_file_path, 'r', encoding='utf-8') as file:\n",
    "                    data = json.load(file)\n",
    "                \n",
    "                # 이미지 정보 추출\n",
    "                image_info = data.get(\"이미지 정보\", {})\n",
    "                image_identifier = image_info.get(\"이미지 식별자\")\n",
    "                \n",
    "                if image_identifier is not None:\n",
    "                    # 이미지 파일명 생성 (이미지 식별자에 .jpg 확장자 추가)\n",
    "                    image_filename = f\"{image_identifier}.jpg\"\n",
    "                    source_image_path = os.path.join(image_source_folder, image_filename)\n",
    "                    dest_image_path = os.path.join(image_dest_folder, image_filename)\n",
    "                    \n",
    "                    # 이미지 파일 존재 여부 확인 후 복사\n",
    "                    if os.path.exists(source_image_path):\n",
    "                        #print(f\"복사 중: {source_image_path} -> {dest_image_path}\")\n",
    "                        shutil.copy2(source_image_path, dest_image_path)\n",
    "                        copied_image_count += 1\n",
    "                        #print(f\"복사 완료: {dest_image_path}\")\n",
    "                    else:\n",
    "                        print(f\"이미지 파일이 존재하지 않습니다: {source_image_path}\")\n",
    "                else:\n",
    "                    print(f\"이미지 식별자가 없습니다: {json_file_path}\")\n",
    "            except Exception as e:\n",
    "                print(f\"오류가 발생했습니다: {filename} 파일에서 {e}\")\n",
    "\n",
    "    # 최종적으로 복사된 이미지 파일 수 출력\n",
    "    print(f\"복사된 이미지 파일 수: {copied_image_count}\")\n",
    "\n",
    "\n",
    "# 폴더 경로 설정\n",
    "json_folder = '../matching_json/val/매니시'\n",
    "image_source_folder = '../test/매니시'\n",
    "image_dest_folder = '../matching_images/val/매니시'\n",
    "\n",
    "# JSON 파일 처리 및 이미지 복사\n",
    "process_json_files_and_copy_images(json_folder, image_source_folder, image_dest_folder)\n"
   ]
  },
  {
   "cell_type": "code",
   "execution_count": null,
   "metadata": {},
   "outputs": [],
   "source": [
    "\n",
    "# 폴더 경로 설정\n",
    "json_folder = '../json/val'\n",
    "image_source_folder = '../test/매니시'\n",
    "image_dest_folder = '../matching_images/val/매니시'"
   ]
  }
 ],
 "metadata": {
  "kernelspec": {
   "display_name": "gumi_env310",
   "language": "python",
   "name": "python3"
  },
  "language_info": {
   "codemirror_mode": {
    "name": "ipython",
    "version": 3
   },
   "file_extension": ".py",
   "mimetype": "text/x-python",
   "name": "python",
   "nbconvert_exporter": "python",
   "pygments_lexer": "ipython3",
   "version": "3.10.14"
  }
 },
 "nbformat": 4,
 "nbformat_minor": 2
}
